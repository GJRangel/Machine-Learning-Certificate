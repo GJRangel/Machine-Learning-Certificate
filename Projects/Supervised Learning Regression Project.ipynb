{
 "cells": [
  {
   "cell_type": "markdown",
   "metadata": {},
   "source": [
    "## Import packages"
   ]
  },
  {
   "cell_type": "code",
   "execution_count": 1,
   "metadata": {},
   "outputs": [],
   "source": [
    "import pandas as pd\n",
    "import numpy as np\n",
    "import matplotlib.pyplot as plt\n",
    "import seaborn as sn\n",
    "from sklearn.preprocessing import PolynomialFeatures, StandardScaler\n",
    "from sklearn.model_selection import train_test_split\n",
    "from sklearn.linear_model import LinearRegression, Lasso, Ridge, ElasticNet\n",
    "from scipy.stats import normaltest, boxcox\n",
    "from sklearn.metrics import mean_squared_error, r2_score\n",
    "import warnings\n",
    "from sklearn.model_selection import cross_val_score\n",
    "from sklearn.pipeline import Pipeline"
   ]
  },
  {
   "cell_type": "code",
   "execution_count": 2,
   "metadata": {},
   "outputs": [],
   "source": [
    "warnings.filterwarnings('ignore')"
   ]
  },
  {
   "cell_type": "markdown",
   "metadata": {},
   "source": [
    "## Import data"
   ]
  },
  {
   "cell_type": "code",
   "execution_count": 194,
   "metadata": {},
   "outputs": [
    {
     "data": {
      "text/html": [
       "<div>\n",
       "<style scoped>\n",
       "    .dataframe tbody tr th:only-of-type {\n",
       "        vertical-align: middle;\n",
       "    }\n",
       "\n",
       "    .dataframe tbody tr th {\n",
       "        vertical-align: top;\n",
       "    }\n",
       "\n",
       "    .dataframe thead th {\n",
       "        text-align: right;\n",
       "    }\n",
       "</style>\n",
       "<table border=\"1\" class=\"dataframe\">\n",
       "  <thead>\n",
       "    <tr style=\"text-align: right;\">\n",
       "      <th></th>\n",
       "      <th>BodyFat</th>\n",
       "      <th>Original</th>\n",
       "      <th>Sex</th>\n",
       "      <th>Age</th>\n",
       "      <th>Weight</th>\n",
       "      <th>Height</th>\n",
       "      <th>Neck</th>\n",
       "      <th>Chest</th>\n",
       "      <th>Abdomen</th>\n",
       "      <th>Hip</th>\n",
       "      <th>Thigh</th>\n",
       "      <th>Knee</th>\n",
       "      <th>Ankle</th>\n",
       "      <th>Biceps</th>\n",
       "      <th>Forearm</th>\n",
       "      <th>Wrist</th>\n",
       "    </tr>\n",
       "  </thead>\n",
       "  <tbody>\n",
       "    <tr>\n",
       "      <th>0</th>\n",
       "      <td>12.30</td>\n",
       "      <td>Y</td>\n",
       "      <td>M</td>\n",
       "      <td>23</td>\n",
       "      <td>69.9700</td>\n",
       "      <td>1.7200</td>\n",
       "      <td>36.2</td>\n",
       "      <td>93.1</td>\n",
       "      <td>85.2</td>\n",
       "      <td>94.5</td>\n",
       "      <td>59.0</td>\n",
       "      <td>37.3</td>\n",
       "      <td>21.9</td>\n",
       "      <td>32.0</td>\n",
       "      <td>27.4</td>\n",
       "      <td>17.1</td>\n",
       "    </tr>\n",
       "    <tr>\n",
       "      <th>1</th>\n",
       "      <td>6.10</td>\n",
       "      <td>Y</td>\n",
       "      <td>M</td>\n",
       "      <td>22</td>\n",
       "      <td>78.5900</td>\n",
       "      <td>1.8400</td>\n",
       "      <td>38.5</td>\n",
       "      <td>93.6</td>\n",
       "      <td>83.0</td>\n",
       "      <td>98.7</td>\n",
       "      <td>58.7</td>\n",
       "      <td>37.3</td>\n",
       "      <td>23.4</td>\n",
       "      <td>30.5</td>\n",
       "      <td>28.9</td>\n",
       "      <td>18.2</td>\n",
       "    </tr>\n",
       "    <tr>\n",
       "      <th>2</th>\n",
       "      <td>25.30</td>\n",
       "      <td>Y</td>\n",
       "      <td>M</td>\n",
       "      <td>22</td>\n",
       "      <td>69.8500</td>\n",
       "      <td>1.6800</td>\n",
       "      <td>34.0</td>\n",
       "      <td>95.8</td>\n",
       "      <td>87.9</td>\n",
       "      <td>99.2</td>\n",
       "      <td>59.6</td>\n",
       "      <td>38.9</td>\n",
       "      <td>24.0</td>\n",
       "      <td>28.8</td>\n",
       "      <td>25.2</td>\n",
       "      <td>16.6</td>\n",
       "    </tr>\n",
       "    <tr>\n",
       "      <th>3</th>\n",
       "      <td>10.40</td>\n",
       "      <td>Y</td>\n",
       "      <td>M</td>\n",
       "      <td>26</td>\n",
       "      <td>83.8000</td>\n",
       "      <td>1.8400</td>\n",
       "      <td>37.4</td>\n",
       "      <td>101.8</td>\n",
       "      <td>86.4</td>\n",
       "      <td>101.2</td>\n",
       "      <td>60.1</td>\n",
       "      <td>37.3</td>\n",
       "      <td>22.8</td>\n",
       "      <td>32.4</td>\n",
       "      <td>29.4</td>\n",
       "      <td>18.2</td>\n",
       "    </tr>\n",
       "    <tr>\n",
       "      <th>4</th>\n",
       "      <td>28.70</td>\n",
       "      <td>Y</td>\n",
       "      <td>M</td>\n",
       "      <td>24</td>\n",
       "      <td>83.5800</td>\n",
       "      <td>1.8100</td>\n",
       "      <td>34.4</td>\n",
       "      <td>97.3</td>\n",
       "      <td>100.0</td>\n",
       "      <td>101.9</td>\n",
       "      <td>63.2</td>\n",
       "      <td>42.2</td>\n",
       "      <td>24.0</td>\n",
       "      <td>32.2</td>\n",
       "      <td>27.7</td>\n",
       "      <td>17.7</td>\n",
       "    </tr>\n",
       "    <tr>\n",
       "      <th>...</th>\n",
       "      <td>...</td>\n",
       "      <td>...</td>\n",
       "      <td>...</td>\n",
       "      <td>...</td>\n",
       "      <td>...</td>\n",
       "      <td>...</td>\n",
       "      <td>...</td>\n",
       "      <td>...</td>\n",
       "      <td>...</td>\n",
       "      <td>...</td>\n",
       "      <td>...</td>\n",
       "      <td>...</td>\n",
       "      <td>...</td>\n",
       "      <td>...</td>\n",
       "      <td>...</td>\n",
       "      <td>...</td>\n",
       "    </tr>\n",
       "    <tr>\n",
       "      <th>431</th>\n",
       "      <td>30.40</td>\n",
       "      <td>N</td>\n",
       "      <td>F</td>\n",
       "      <td>23</td>\n",
       "      <td>59.8752</td>\n",
       "      <td>1.5621</td>\n",
       "      <td>31.3</td>\n",
       "      <td>89.0</td>\n",
       "      <td>71.0</td>\n",
       "      <td>98.5</td>\n",
       "      <td>56.0</td>\n",
       "      <td>36.2</td>\n",
       "      <td>21.0</td>\n",
       "      <td>28.0</td>\n",
       "      <td>24.5</td>\n",
       "      <td>16.3</td>\n",
       "    </tr>\n",
       "    <tr>\n",
       "      <th>432</th>\n",
       "      <td>7.47</td>\n",
       "      <td>N</td>\n",
       "      <td>F</td>\n",
       "      <td>21</td>\n",
       "      <td>48.5352</td>\n",
       "      <td>1.5748</td>\n",
       "      <td>29.5</td>\n",
       "      <td>79.0</td>\n",
       "      <td>62.5</td>\n",
       "      <td>89.0</td>\n",
       "      <td>49.0</td>\n",
       "      <td>33.0</td>\n",
       "      <td>20.0</td>\n",
       "      <td>25.0</td>\n",
       "      <td>22.0</td>\n",
       "      <td>15.5</td>\n",
       "    </tr>\n",
       "    <tr>\n",
       "      <th>433</th>\n",
       "      <td>11.98</td>\n",
       "      <td>N</td>\n",
       "      <td>F</td>\n",
       "      <td>20</td>\n",
       "      <td>51.7104</td>\n",
       "      <td>1.5748</td>\n",
       "      <td>31.5</td>\n",
       "      <td>81.5</td>\n",
       "      <td>61.5</td>\n",
       "      <td>90.0</td>\n",
       "      <td>49.5</td>\n",
       "      <td>32.0</td>\n",
       "      <td>19.5</td>\n",
       "      <td>27.5</td>\n",
       "      <td>22.5</td>\n",
       "      <td>15.0</td>\n",
       "    </tr>\n",
       "    <tr>\n",
       "      <th>434</th>\n",
       "      <td>11.24</td>\n",
       "      <td>N</td>\n",
       "      <td>F</td>\n",
       "      <td>22</td>\n",
       "      <td>50.8032</td>\n",
       "      <td>1.6510</td>\n",
       "      <td>30.5</td>\n",
       "      <td>85.0</td>\n",
       "      <td>64.0</td>\n",
       "      <td>88.0</td>\n",
       "      <td>45.0</td>\n",
       "      <td>32.0</td>\n",
       "      <td>19.5</td>\n",
       "      <td>24.0</td>\n",
       "      <td>21.5</td>\n",
       "      <td>15.0</td>\n",
       "    </tr>\n",
       "    <tr>\n",
       "      <th>435</th>\n",
       "      <td>17.49</td>\n",
       "      <td>N</td>\n",
       "      <td>F</td>\n",
       "      <td>24</td>\n",
       "      <td>47.6280</td>\n",
       "      <td>1.6002</td>\n",
       "      <td>26.0</td>\n",
       "      <td>79.3</td>\n",
       "      <td>63.0</td>\n",
       "      <td>86.6</td>\n",
       "      <td>46.0</td>\n",
       "      <td>33.5</td>\n",
       "      <td>19.0</td>\n",
       "      <td>24.0</td>\n",
       "      <td>21.5</td>\n",
       "      <td>14.0</td>\n",
       "    </tr>\n",
       "  </tbody>\n",
       "</table>\n",
       "<p>436 rows × 16 columns</p>\n",
       "</div>"
      ],
      "text/plain": [
       "     BodyFat Original Sex  Age   Weight  Height  Neck  Chest  Abdomen    Hip  \\\n",
       "0      12.30        Y   M   23  69.9700  1.7200  36.2   93.1     85.2   94.5   \n",
       "1       6.10        Y   M   22  78.5900  1.8400  38.5   93.6     83.0   98.7   \n",
       "2      25.30        Y   M   22  69.8500  1.6800  34.0   95.8     87.9   99.2   \n",
       "3      10.40        Y   M   26  83.8000  1.8400  37.4  101.8     86.4  101.2   \n",
       "4      28.70        Y   M   24  83.5800  1.8100  34.4   97.3    100.0  101.9   \n",
       "..       ...      ...  ..  ...      ...     ...   ...    ...      ...    ...   \n",
       "431    30.40        N   F   23  59.8752  1.5621  31.3   89.0     71.0   98.5   \n",
       "432     7.47        N   F   21  48.5352  1.5748  29.5   79.0     62.5   89.0   \n",
       "433    11.98        N   F   20  51.7104  1.5748  31.5   81.5     61.5   90.0   \n",
       "434    11.24        N   F   22  50.8032  1.6510  30.5   85.0     64.0   88.0   \n",
       "435    17.49        N   F   24  47.6280  1.6002  26.0   79.3     63.0   86.6   \n",
       "\n",
       "     Thigh  Knee  Ankle  Biceps  Forearm  Wrist  \n",
       "0     59.0  37.3   21.9    32.0     27.4   17.1  \n",
       "1     58.7  37.3   23.4    30.5     28.9   18.2  \n",
       "2     59.6  38.9   24.0    28.8     25.2   16.6  \n",
       "3     60.1  37.3   22.8    32.4     29.4   18.2  \n",
       "4     63.2  42.2   24.0    32.2     27.7   17.7  \n",
       "..     ...   ...    ...     ...      ...    ...  \n",
       "431   56.0  36.2   21.0    28.0     24.5   16.3  \n",
       "432   49.0  33.0   20.0    25.0     22.0   15.5  \n",
       "433   49.5  32.0   19.5    27.5     22.5   15.0  \n",
       "434   45.0  32.0   19.5    24.0     21.5   15.0  \n",
       "435   46.0  33.5   19.0    24.0     21.5   14.0  \n",
       "\n",
       "[436 rows x 16 columns]"
      ]
     },
     "execution_count": 194,
     "metadata": {},
     "output_type": "execute_result"
    }
   ],
   "source": [
    "data = pd.read_csv('data/Body Fat/BodyFat - Extended.csv')\n",
    "data"
   ]
  },
  {
   "cell_type": "markdown",
   "metadata": {},
   "source": [
    "## Explore data analysis"
   ]
  },
  {
   "cell_type": "code",
   "execution_count": 193,
   "metadata": {},
   "outputs": [
    {
     "data": {
      "image/png": "[encoded data removed]",
      "text/plain": [
       "<Figure size 1000x1000 with 16 Axes>"
      ]
     },
     "metadata": {},
     "output_type": "display_data"
    }
   ],
   "source": [
    "data.hist(figsize=(10, 10))\n",
    "plt.title('Data Histograms')\n",
    "plt.savefig('Images/BodyFatPred/data_histogram.png')"
   ]
  },
  {
   "cell_type": "code",
   "execution_count": 179,
   "metadata": {},
   "outputs": [
    {
     "data": {
      "image/png": "[encoded data removed]",
      "text/plain": [
       "<Figure size 1170x827 with 1 Axes>"
      ]
     },
     "metadata": {},
     "output_type": "display_data"
    }
   ],
   "source": [
    "sn.set_theme(rc={'figure.figsize':(11.7,8.27)})\n",
    "sn.boxplot(data)\n",
    "plt.savefig('Images/BodyFatPred/data_boxplots.png')"
   ]
  },
  {
   "cell_type": "markdown",
   "metadata": {},
   "source": [
    "## Clean data"
   ]
  },
  {
   "cell_type": "markdown",
   "metadata": {},
   "source": [
    "Check for null or nan data and remove it"
   ]
  },
  {
   "cell_type": "code",
   "execution_count": 195,
   "metadata": {},
   "outputs": [
    {
     "name": "stdout",
     "output_type": "stream",
     "text": [
      "Number of na data: 0\n"
     ]
    },
    {
     "data": {
      "text/html": [
       "<div>\n",
       "<style scoped>\n",
       "    .dataframe tbody tr th:only-of-type {\n",
       "        vertical-align: middle;\n",
       "    }\n",
       "\n",
       "    .dataframe tbody tr th {\n",
       "        vertical-align: top;\n",
       "    }\n",
       "\n",
       "    .dataframe thead th {\n",
       "        text-align: right;\n",
       "    }\n",
       "</style>\n",
       "<table border=\"1\" class=\"dataframe\">\n",
       "  <thead>\n",
       "    <tr style=\"text-align: right;\">\n",
       "      <th></th>\n",
       "      <th>BodyFat</th>\n",
       "      <th>Original</th>\n",
       "      <th>Sex</th>\n",
       "      <th>Age</th>\n",
       "      <th>Weight</th>\n",
       "      <th>Height</th>\n",
       "      <th>Neck</th>\n",
       "      <th>Chest</th>\n",
       "      <th>Abdomen</th>\n",
       "      <th>Hip</th>\n",
       "      <th>Thigh</th>\n",
       "      <th>Knee</th>\n",
       "      <th>Ankle</th>\n",
       "      <th>Biceps</th>\n",
       "      <th>Forearm</th>\n",
       "      <th>Wrist</th>\n",
       "    </tr>\n",
       "  </thead>\n",
       "  <tbody>\n",
       "    <tr>\n",
       "      <th>0</th>\n",
       "      <td>12.30</td>\n",
       "      <td>Y</td>\n",
       "      <td>M</td>\n",
       "      <td>23</td>\n",
       "      <td>69.9700</td>\n",
       "      <td>1.7200</td>\n",
       "      <td>36.2</td>\n",
       "      <td>93.1</td>\n",
       "      <td>85.2</td>\n",
       "      <td>94.5</td>\n",
       "      <td>59.0</td>\n",
       "      <td>37.3</td>\n",
       "      <td>21.9</td>\n",
       "      <td>32.0</td>\n",
       "      <td>27.4</td>\n",
       "      <td>17.1</td>\n",
       "    </tr>\n",
       "    <tr>\n",
       "      <th>1</th>\n",
       "      <td>6.10</td>\n",
       "      <td>Y</td>\n",
       "      <td>M</td>\n",
       "      <td>22</td>\n",
       "      <td>78.5900</td>\n",
       "      <td>1.8400</td>\n",
       "      <td>38.5</td>\n",
       "      <td>93.6</td>\n",
       "      <td>83.0</td>\n",
       "      <td>98.7</td>\n",
       "      <td>58.7</td>\n",
       "      <td>37.3</td>\n",
       "      <td>23.4</td>\n",
       "      <td>30.5</td>\n",
       "      <td>28.9</td>\n",
       "      <td>18.2</td>\n",
       "    </tr>\n",
       "    <tr>\n",
       "      <th>2</th>\n",
       "      <td>25.30</td>\n",
       "      <td>Y</td>\n",
       "      <td>M</td>\n",
       "      <td>22</td>\n",
       "      <td>69.8500</td>\n",
       "      <td>1.6800</td>\n",
       "      <td>34.0</td>\n",
       "      <td>95.8</td>\n",
       "      <td>87.9</td>\n",
       "      <td>99.2</td>\n",
       "      <td>59.6</td>\n",
       "      <td>38.9</td>\n",
       "      <td>24.0</td>\n",
       "      <td>28.8</td>\n",
       "      <td>25.2</td>\n",
       "      <td>16.6</td>\n",
       "    </tr>\n",
       "    <tr>\n",
       "      <th>3</th>\n",
       "      <td>10.40</td>\n",
       "      <td>Y</td>\n",
       "      <td>M</td>\n",
       "      <td>26</td>\n",
       "      <td>83.8000</td>\n",
       "      <td>1.8400</td>\n",
       "      <td>37.4</td>\n",
       "      <td>101.8</td>\n",
       "      <td>86.4</td>\n",
       "      <td>101.2</td>\n",
       "      <td>60.1</td>\n",
       "      <td>37.3</td>\n",
       "      <td>22.8</td>\n",
       "      <td>32.4</td>\n",
       "      <td>29.4</td>\n",
       "      <td>18.2</td>\n",
       "    </tr>\n",
       "    <tr>\n",
       "      <th>4</th>\n",
       "      <td>28.70</td>\n",
       "      <td>Y</td>\n",
       "      <td>M</td>\n",
       "      <td>24</td>\n",
       "      <td>83.5800</td>\n",
       "      <td>1.8100</td>\n",
       "      <td>34.4</td>\n",
       "      <td>97.3</td>\n",
       "      <td>100.0</td>\n",
       "      <td>101.9</td>\n",
       "      <td>63.2</td>\n",
       "      <td>42.2</td>\n",
       "      <td>24.0</td>\n",
       "      <td>32.2</td>\n",
       "      <td>27.7</td>\n",
       "      <td>17.7</td>\n",
       "    </tr>\n",
       "    <tr>\n",
       "      <th>...</th>\n",
       "      <td>...</td>\n",
       "      <td>...</td>\n",
       "      <td>...</td>\n",
       "      <td>...</td>\n",
       "      <td>...</td>\n",
       "      <td>...</td>\n",
       "      <td>...</td>\n",
       "      <td>...</td>\n",
       "      <td>...</td>\n",
       "      <td>...</td>\n",
       "      <td>...</td>\n",
       "      <td>...</td>\n",
       "      <td>...</td>\n",
       "      <td>...</td>\n",
       "      <td>...</td>\n",
       "      <td>...</td>\n",
       "    </tr>\n",
       "    <tr>\n",
       "      <th>431</th>\n",
       "      <td>30.40</td>\n",
       "      <td>N</td>\n",
       "      <td>F</td>\n",
       "      <td>23</td>\n",
       "      <td>59.8752</td>\n",
       "      <td>1.5621</td>\n",
       "      <td>31.3</td>\n",
       "      <td>89.0</td>\n",
       "      <td>71.0</td>\n",
       "      <td>98.5</td>\n",
       "      <td>56.0</td>\n",
       "      <td>36.2</td>\n",
       "      <td>21.0</td>\n",
       "      <td>28.0</td>\n",
       "      <td>24.5</td>\n",
       "      <td>16.3</td>\n",
       "    </tr>\n",
       "    <tr>\n",
       "      <th>432</th>\n",
       "      <td>7.47</td>\n",
       "      <td>N</td>\n",
       "      <td>F</td>\n",
       "      <td>21</td>\n",
       "      <td>48.5352</td>\n",
       "      <td>1.5748</td>\n",
       "      <td>29.5</td>\n",
       "      <td>79.0</td>\n",
       "      <td>62.5</td>\n",
       "      <td>89.0</td>\n",
       "      <td>49.0</td>\n",
       "      <td>33.0</td>\n",
       "      <td>20.0</td>\n",
       "      <td>25.0</td>\n",
       "      <td>22.0</td>\n",
       "      <td>15.5</td>\n",
       "    </tr>\n",
       "    <tr>\n",
       "      <th>433</th>\n",
       "      <td>11.98</td>\n",
       "      <td>N</td>\n",
       "      <td>F</td>\n",
       "      <td>20</td>\n",
       "      <td>51.7104</td>\n",
       "      <td>1.5748</td>\n",
       "      <td>31.5</td>\n",
       "      <td>81.5</td>\n",
       "      <td>61.5</td>\n",
       "      <td>90.0</td>\n",
       "      <td>49.5</td>\n",
       "      <td>32.0</td>\n",
       "      <td>19.5</td>\n",
       "      <td>27.5</td>\n",
       "      <td>22.5</td>\n",
       "      <td>15.0</td>\n",
       "    </tr>\n",
       "    <tr>\n",
       "      <th>434</th>\n",
       "      <td>11.24</td>\n",
       "      <td>N</td>\n",
       "      <td>F</td>\n",
       "      <td>22</td>\n",
       "      <td>50.8032</td>\n",
       "      <td>1.6510</td>\n",
       "      <td>30.5</td>\n",
       "      <td>85.0</td>\n",
       "      <td>64.0</td>\n",
       "      <td>88.0</td>\n",
       "      <td>45.0</td>\n",
       "      <td>32.0</td>\n",
       "      <td>19.5</td>\n",
       "      <td>24.0</td>\n",
       "      <td>21.5</td>\n",
       "      <td>15.0</td>\n",
       "    </tr>\n",
       "    <tr>\n",
       "      <th>435</th>\n",
       "      <td>17.49</td>\n",
       "      <td>N</td>\n",
       "      <td>F</td>\n",
       "      <td>24</td>\n",
       "      <td>47.6280</td>\n",
       "      <td>1.6002</td>\n",
       "      <td>26.0</td>\n",
       "      <td>79.3</td>\n",
       "      <td>63.0</td>\n",
       "      <td>86.6</td>\n",
       "      <td>46.0</td>\n",
       "      <td>33.5</td>\n",
       "      <td>19.0</td>\n",
       "      <td>24.0</td>\n",
       "      <td>21.5</td>\n",
       "      <td>14.0</td>\n",
       "    </tr>\n",
       "  </tbody>\n",
       "</table>\n",
       "<p>436 rows × 16 columns</p>\n",
       "</div>"
      ],
      "text/plain": [
       "     BodyFat Original Sex  Age   Weight  Height  Neck  Chest  Abdomen    Hip  \\\n",
       "0      12.30        Y   M   23  69.9700  1.7200  36.2   93.1     85.2   94.5   \n",
       "1       6.10        Y   M   22  78.5900  1.8400  38.5   93.6     83.0   98.7   \n",
       "2      25.30        Y   M   22  69.8500  1.6800  34.0   95.8     87.9   99.2   \n",
       "3      10.40        Y   M   26  83.8000  1.8400  37.4  101.8     86.4  101.2   \n",
       "4      28.70        Y   M   24  83.5800  1.8100  34.4   97.3    100.0  101.9   \n",
       "..       ...      ...  ..  ...      ...     ...   ...    ...      ...    ...   \n",
       "431    30.40        N   F   23  59.8752  1.5621  31.3   89.0     71.0   98.5   \n",
       "432     7.47        N   F   21  48.5352  1.5748  29.5   79.0     62.5   89.0   \n",
       "433    11.98        N   F   20  51.7104  1.5748  31.5   81.5     61.5   90.0   \n",
       "434    11.24        N   F   22  50.8032  1.6510  30.5   85.0     64.0   88.0   \n",
       "435    17.49        N   F   24  47.6280  1.6002  26.0   79.3     63.0   86.6   \n",
       "\n",
       "     Thigh  Knee  Ankle  Biceps  Forearm  Wrist  \n",
       "0     59.0  37.3   21.9    32.0     27.4   17.1  \n",
       "1     58.7  37.3   23.4    30.5     28.9   18.2  \n",
       "2     59.6  38.9   24.0    28.8     25.2   16.6  \n",
       "3     60.1  37.3   22.8    32.4     29.4   18.2  \n",
       "4     63.2  42.2   24.0    32.2     27.7   17.7  \n",
       "..     ...   ...    ...     ...      ...    ...  \n",
       "431   56.0  36.2   21.0    28.0     24.5   16.3  \n",
       "432   49.0  33.0   20.0    25.0     22.0   15.5  \n",
       "433   49.5  32.0   19.5    27.5     22.5   15.0  \n",
       "434   45.0  32.0   19.5    24.0     21.5   15.0  \n",
       "435   46.0  33.5   19.0    24.0     21.5   14.0  \n",
       "\n",
       "[436 rows x 16 columns]"
      ]
     },
     "execution_count": 195,
     "metadata": {},
     "output_type": "execute_result"
    }
   ],
   "source": [
    "print(f\"Number of na data: {data.isna().sum().sum()}\")\n",
    "data.dropna(axis = 0, inplace = True)\n",
    "data"
   ]
  },
  {
   "cell_type": "code",
   "execution_count": 196,
   "metadata": {},
   "outputs": [
    {
     "data": {
      "text/html": [
       "<div>\n",
       "<style scoped>\n",
       "    .dataframe tbody tr th:only-of-type {\n",
       "        vertical-align: middle;\n",
       "    }\n",
       "\n",
       "    .dataframe tbody tr th {\n",
       "        vertical-align: top;\n",
       "    }\n",
       "\n",
       "    .dataframe thead th {\n",
       "        text-align: right;\n",
       "    }\n",
       "</style>\n",
       "<table border=\"1\" class=\"dataframe\">\n",
       "  <thead>\n",
       "    <tr style=\"text-align: right;\">\n",
       "      <th></th>\n",
       "      <th>BodyFat</th>\n",
       "      <th>Original</th>\n",
       "      <th>Sex</th>\n",
       "      <th>Age</th>\n",
       "      <th>Weight</th>\n",
       "      <th>Height</th>\n",
       "      <th>Neck</th>\n",
       "      <th>Chest</th>\n",
       "      <th>Abdomen</th>\n",
       "      <th>Hip</th>\n",
       "      <th>Thigh</th>\n",
       "      <th>Knee</th>\n",
       "      <th>Ankle</th>\n",
       "      <th>Biceps</th>\n",
       "      <th>Forearm</th>\n",
       "      <th>Wrist</th>\n",
       "    </tr>\n",
       "  </thead>\n",
       "  <tbody>\n",
       "    <tr>\n",
       "      <th>170</th>\n",
       "      <td>3.0</td>\n",
       "      <td>Y</td>\n",
       "      <td>M</td>\n",
       "      <td>35</td>\n",
       "      <td>69.06</td>\n",
       "      <td>1.72</td>\n",
       "      <td>37.0</td>\n",
       "      <td>92.2</td>\n",
       "      <td>81.9</td>\n",
       "      <td>92.8</td>\n",
       "      <td>54.7</td>\n",
       "      <td>36.2</td>\n",
       "      <td>22.1</td>\n",
       "      <td>30.4</td>\n",
       "      <td>27.4</td>\n",
       "      <td>17.7</td>\n",
       "    </tr>\n",
       "    <tr>\n",
       "      <th>171</th>\n",
       "      <td>0.7</td>\n",
       "      <td>Y</td>\n",
       "      <td>M</td>\n",
       "      <td>35</td>\n",
       "      <td>57.04</td>\n",
       "      <td>1.66</td>\n",
       "      <td>34.0</td>\n",
       "      <td>90.8</td>\n",
       "      <td>75.0</td>\n",
       "      <td>89.2</td>\n",
       "      <td>50.0</td>\n",
       "      <td>34.8</td>\n",
       "      <td>22.0</td>\n",
       "      <td>24.8</td>\n",
       "      <td>25.9</td>\n",
       "      <td>16.9</td>\n",
       "    </tr>\n",
       "    <tr>\n",
       "      <th>181</th>\n",
       "      <td>0.0</td>\n",
       "      <td>Y</td>\n",
       "      <td>M</td>\n",
       "      <td>40</td>\n",
       "      <td>53.75</td>\n",
       "      <td>1.73</td>\n",
       "      <td>33.8</td>\n",
       "      <td>79.3</td>\n",
       "      <td>69.4</td>\n",
       "      <td>85.0</td>\n",
       "      <td>47.2</td>\n",
       "      <td>33.5</td>\n",
       "      <td>20.2</td>\n",
       "      <td>27.7</td>\n",
       "      <td>24.6</td>\n",
       "      <td>16.5</td>\n",
       "    </tr>\n",
       "  </tbody>\n",
       "</table>\n",
       "</div>"
      ],
      "text/plain": [
       "     BodyFat Original Sex  Age  Weight  Height  Neck  Chest  Abdomen   Hip  \\\n",
       "170      3.0        Y   M   35   69.06    1.72  37.0   92.2     81.9  92.8   \n",
       "171      0.7        Y   M   35   57.04    1.66  34.0   90.8     75.0  89.2   \n",
       "181      0.0        Y   M   40   53.75    1.73  33.8   79.3     69.4  85.0   \n",
       "\n",
       "     Thigh  Knee  Ankle  Biceps  Forearm  Wrist  \n",
       "170   54.7  36.2   22.1    30.4     27.4   17.7  \n",
       "171   50.0  34.8   22.0    24.8     25.9   16.9  \n",
       "181   47.2  33.5   20.2    27.7     24.6   16.5  "
      ]
     },
     "execution_count": 196,
     "metadata": {},
     "output_type": "execute_result"
    }
   ],
   "source": [
    "data[data['BodyFat'] <= 3]"
   ]
  },
  {
   "cell_type": "markdown",
   "metadata": {},
   "source": [
    "In the histogram we can observe some people having zero body fat which is not possible. By searching about this limit, it is known that for men the minimum body fat is 3% and for woman 12%. Since we have no data of gender we will remove any data below 3% bodyfat."
   ]
  },
  {
   "cell_type": "code",
   "execution_count": 197,
   "metadata": {},
   "outputs": [
    {
     "data": {
      "text/html": [
       "<div>\n",
       "<style scoped>\n",
       "    .dataframe tbody tr th:only-of-type {\n",
       "        vertical-align: middle;\n",
       "    }\n",
       "\n",
       "    .dataframe tbody tr th {\n",
       "        vertical-align: top;\n",
       "    }\n",
       "\n",
       "    .dataframe thead th {\n",
       "        text-align: right;\n",
       "    }\n",
       "</style>\n",
       "<table border=\"1\" class=\"dataframe\">\n",
       "  <thead>\n",
       "    <tr style=\"text-align: right;\">\n",
       "      <th></th>\n",
       "      <th>BodyFat</th>\n",
       "      <th>Original</th>\n",
       "      <th>Sex</th>\n",
       "      <th>Age</th>\n",
       "      <th>Weight</th>\n",
       "      <th>Height</th>\n",
       "      <th>Neck</th>\n",
       "      <th>Chest</th>\n",
       "      <th>Abdomen</th>\n",
       "      <th>Hip</th>\n",
       "      <th>Thigh</th>\n",
       "      <th>Knee</th>\n",
       "      <th>Ankle</th>\n",
       "      <th>Biceps</th>\n",
       "      <th>Forearm</th>\n",
       "      <th>Wrist</th>\n",
       "    </tr>\n",
       "  </thead>\n",
       "  <tbody>\n",
       "    <tr>\n",
       "      <th>0</th>\n",
       "      <td>12.30</td>\n",
       "      <td>Y</td>\n",
       "      <td>M</td>\n",
       "      <td>23</td>\n",
       "      <td>69.9700</td>\n",
       "      <td>1.7200</td>\n",
       "      <td>36.2</td>\n",
       "      <td>93.1</td>\n",
       "      <td>85.2</td>\n",
       "      <td>94.5</td>\n",
       "      <td>59.0</td>\n",
       "      <td>37.3</td>\n",
       "      <td>21.9</td>\n",
       "      <td>32.0</td>\n",
       "      <td>27.4</td>\n",
       "      <td>17.1</td>\n",
       "    </tr>\n",
       "    <tr>\n",
       "      <th>1</th>\n",
       "      <td>6.10</td>\n",
       "      <td>Y</td>\n",
       "      <td>M</td>\n",
       "      <td>22</td>\n",
       "      <td>78.5900</td>\n",
       "      <td>1.8400</td>\n",
       "      <td>38.5</td>\n",
       "      <td>93.6</td>\n",
       "      <td>83.0</td>\n",
       "      <td>98.7</td>\n",
       "      <td>58.7</td>\n",
       "      <td>37.3</td>\n",
       "      <td>23.4</td>\n",
       "      <td>30.5</td>\n",
       "      <td>28.9</td>\n",
       "      <td>18.2</td>\n",
       "    </tr>\n",
       "    <tr>\n",
       "      <th>2</th>\n",
       "      <td>25.30</td>\n",
       "      <td>Y</td>\n",
       "      <td>M</td>\n",
       "      <td>22</td>\n",
       "      <td>69.8500</td>\n",
       "      <td>1.6800</td>\n",
       "      <td>34.0</td>\n",
       "      <td>95.8</td>\n",
       "      <td>87.9</td>\n",
       "      <td>99.2</td>\n",
       "      <td>59.6</td>\n",
       "      <td>38.9</td>\n",
       "      <td>24.0</td>\n",
       "      <td>28.8</td>\n",
       "      <td>25.2</td>\n",
       "      <td>16.6</td>\n",
       "    </tr>\n",
       "    <tr>\n",
       "      <th>3</th>\n",
       "      <td>10.40</td>\n",
       "      <td>Y</td>\n",
       "      <td>M</td>\n",
       "      <td>26</td>\n",
       "      <td>83.8000</td>\n",
       "      <td>1.8400</td>\n",
       "      <td>37.4</td>\n",
       "      <td>101.8</td>\n",
       "      <td>86.4</td>\n",
       "      <td>101.2</td>\n",
       "      <td>60.1</td>\n",
       "      <td>37.3</td>\n",
       "      <td>22.8</td>\n",
       "      <td>32.4</td>\n",
       "      <td>29.4</td>\n",
       "      <td>18.2</td>\n",
       "    </tr>\n",
       "    <tr>\n",
       "      <th>4</th>\n",
       "      <td>28.70</td>\n",
       "      <td>Y</td>\n",
       "      <td>M</td>\n",
       "      <td>24</td>\n",
       "      <td>83.5800</td>\n",
       "      <td>1.8100</td>\n",
       "      <td>34.4</td>\n",
       "      <td>97.3</td>\n",
       "      <td>100.0</td>\n",
       "      <td>101.9</td>\n",
       "      <td>63.2</td>\n",
       "      <td>42.2</td>\n",
       "      <td>24.0</td>\n",
       "      <td>32.2</td>\n",
       "      <td>27.7</td>\n",
       "      <td>17.7</td>\n",
       "    </tr>\n",
       "    <tr>\n",
       "      <th>...</th>\n",
       "      <td>...</td>\n",
       "      <td>...</td>\n",
       "      <td>...</td>\n",
       "      <td>...</td>\n",
       "      <td>...</td>\n",
       "      <td>...</td>\n",
       "      <td>...</td>\n",
       "      <td>...</td>\n",
       "      <td>...</td>\n",
       "      <td>...</td>\n",
       "      <td>...</td>\n",
       "      <td>...</td>\n",
       "      <td>...</td>\n",
       "      <td>...</td>\n",
       "      <td>...</td>\n",
       "      <td>...</td>\n",
       "    </tr>\n",
       "    <tr>\n",
       "      <th>431</th>\n",
       "      <td>30.40</td>\n",
       "      <td>N</td>\n",
       "      <td>F</td>\n",
       "      <td>23</td>\n",
       "      <td>59.8752</td>\n",
       "      <td>1.5621</td>\n",
       "      <td>31.3</td>\n",
       "      <td>89.0</td>\n",
       "      <td>71.0</td>\n",
       "      <td>98.5</td>\n",
       "      <td>56.0</td>\n",
       "      <td>36.2</td>\n",
       "      <td>21.0</td>\n",
       "      <td>28.0</td>\n",
       "      <td>24.5</td>\n",
       "      <td>16.3</td>\n",
       "    </tr>\n",
       "    <tr>\n",
       "      <th>432</th>\n",
       "      <td>7.47</td>\n",
       "      <td>N</td>\n",
       "      <td>F</td>\n",
       "      <td>21</td>\n",
       "      <td>48.5352</td>\n",
       "      <td>1.5748</td>\n",
       "      <td>29.5</td>\n",
       "      <td>79.0</td>\n",
       "      <td>62.5</td>\n",
       "      <td>89.0</td>\n",
       "      <td>49.0</td>\n",
       "      <td>33.0</td>\n",
       "      <td>20.0</td>\n",
       "      <td>25.0</td>\n",
       "      <td>22.0</td>\n",
       "      <td>15.5</td>\n",
       "    </tr>\n",
       "    <tr>\n",
       "      <th>433</th>\n",
       "      <td>11.98</td>\n",
       "      <td>N</td>\n",
       "      <td>F</td>\n",
       "      <td>20</td>\n",
       "      <td>51.7104</td>\n",
       "      <td>1.5748</td>\n",
       "      <td>31.5</td>\n",
       "      <td>81.5</td>\n",
       "      <td>61.5</td>\n",
       "      <td>90.0</td>\n",
       "      <td>49.5</td>\n",
       "      <td>32.0</td>\n",
       "      <td>19.5</td>\n",
       "      <td>27.5</td>\n",
       "      <td>22.5</td>\n",
       "      <td>15.0</td>\n",
       "    </tr>\n",
       "    <tr>\n",
       "      <th>434</th>\n",
       "      <td>11.24</td>\n",
       "      <td>N</td>\n",
       "      <td>F</td>\n",
       "      <td>22</td>\n",
       "      <td>50.8032</td>\n",
       "      <td>1.6510</td>\n",
       "      <td>30.5</td>\n",
       "      <td>85.0</td>\n",
       "      <td>64.0</td>\n",
       "      <td>88.0</td>\n",
       "      <td>45.0</td>\n",
       "      <td>32.0</td>\n",
       "      <td>19.5</td>\n",
       "      <td>24.0</td>\n",
       "      <td>21.5</td>\n",
       "      <td>15.0</td>\n",
       "    </tr>\n",
       "    <tr>\n",
       "      <th>435</th>\n",
       "      <td>17.49</td>\n",
       "      <td>N</td>\n",
       "      <td>F</td>\n",
       "      <td>24</td>\n",
       "      <td>47.6280</td>\n",
       "      <td>1.6002</td>\n",
       "      <td>26.0</td>\n",
       "      <td>79.3</td>\n",
       "      <td>63.0</td>\n",
       "      <td>86.6</td>\n",
       "      <td>46.0</td>\n",
       "      <td>33.5</td>\n",
       "      <td>19.0</td>\n",
       "      <td>24.0</td>\n",
       "      <td>21.5</td>\n",
       "      <td>14.0</td>\n",
       "    </tr>\n",
       "  </tbody>\n",
       "</table>\n",
       "<p>433 rows × 16 columns</p>\n",
       "</div>"
      ],
      "text/plain": [
       "     BodyFat Original Sex  Age   Weight  Height  Neck  Chest  Abdomen    Hip  \\\n",
       "0      12.30        Y   M   23  69.9700  1.7200  36.2   93.1     85.2   94.5   \n",
       "1       6.10        Y   M   22  78.5900  1.8400  38.5   93.6     83.0   98.7   \n",
       "2      25.30        Y   M   22  69.8500  1.6800  34.0   95.8     87.9   99.2   \n",
       "3      10.40        Y   M   26  83.8000  1.8400  37.4  101.8     86.4  101.2   \n",
       "4      28.70        Y   M   24  83.5800  1.8100  34.4   97.3    100.0  101.9   \n",
       "..       ...      ...  ..  ...      ...     ...   ...    ...      ...    ...   \n",
       "431    30.40        N   F   23  59.8752  1.5621  31.3   89.0     71.0   98.5   \n",
       "432     7.47        N   F   21  48.5352  1.5748  29.5   79.0     62.5   89.0   \n",
       "433    11.98        N   F   20  51.7104  1.5748  31.5   81.5     61.5   90.0   \n",
       "434    11.24        N   F   22  50.8032  1.6510  30.5   85.0     64.0   88.0   \n",
       "435    17.49        N   F   24  47.6280  1.6002  26.0   79.3     63.0   86.6   \n",
       "\n",
       "     Thigh  Knee  Ankle  Biceps  Forearm  Wrist  \n",
       "0     59.0  37.3   21.9    32.0     27.4   17.1  \n",
       "1     58.7  37.3   23.4    30.5     28.9   18.2  \n",
       "2     59.6  38.9   24.0    28.8     25.2   16.6  \n",
       "3     60.1  37.3   22.8    32.4     29.4   18.2  \n",
       "4     63.2  42.2   24.0    32.2     27.7   17.7  \n",
       "..     ...   ...    ...     ...      ...    ...  \n",
       "431   56.0  36.2   21.0    28.0     24.5   16.3  \n",
       "432   49.0  33.0   20.0    25.0     22.0   15.5  \n",
       "433   49.5  32.0   19.5    27.5     22.5   15.0  \n",
       "434   45.0  32.0   19.5    24.0     21.5   15.0  \n",
       "435   46.0  33.5   19.0    24.0     21.5   14.0  \n",
       "\n",
       "[433 rows x 16 columns]"
      ]
     },
     "execution_count": 197,
     "metadata": {},
     "output_type": "execute_result"
    }
   ],
   "source": [
    "data = data[data['BodyFat'] > 3]\n",
    "data"
   ]
  },
  {
   "cell_type": "markdown",
   "metadata": {},
   "source": [
    "Use boxplot to remove outliers"
   ]
  },
  {
   "cell_type": "code",
   "execution_count": 198,
   "metadata": {},
   "outputs": [
    {
     "data": {
      "text/html": [
       "<div>\n",
       "<style scoped>\n",
       "    .dataframe tbody tr th:only-of-type {\n",
       "        vertical-align: middle;\n",
       "    }\n",
       "\n",
       "    .dataframe tbody tr th {\n",
       "        vertical-align: top;\n",
       "    }\n",
       "\n",
       "    .dataframe thead th {\n",
       "        text-align: right;\n",
       "    }\n",
       "</style>\n",
       "<table border=\"1\" class=\"dataframe\">\n",
       "  <thead>\n",
       "    <tr style=\"text-align: right;\">\n",
       "      <th></th>\n",
       "      <th>BodyFat</th>\n",
       "      <th>Original</th>\n",
       "      <th>Sex</th>\n",
       "      <th>Age</th>\n",
       "      <th>Weight</th>\n",
       "      <th>Height</th>\n",
       "      <th>Neck</th>\n",
       "      <th>Chest</th>\n",
       "      <th>Abdomen</th>\n",
       "      <th>Hip</th>\n",
       "      <th>Thigh</th>\n",
       "      <th>Knee</th>\n",
       "      <th>Ankle</th>\n",
       "      <th>Biceps</th>\n",
       "      <th>Forearm</th>\n",
       "      <th>Wrist</th>\n",
       "    </tr>\n",
       "  </thead>\n",
       "  <tbody>\n",
       "    <tr>\n",
       "      <th>0</th>\n",
       "      <td>12.30</td>\n",
       "      <td>Y</td>\n",
       "      <td>M</td>\n",
       "      <td>23</td>\n",
       "      <td>69.9700</td>\n",
       "      <td>1.7200</td>\n",
       "      <td>36.2</td>\n",
       "      <td>93.1</td>\n",
       "      <td>85.2</td>\n",
       "      <td>94.5</td>\n",
       "      <td>59.0</td>\n",
       "      <td>37.3</td>\n",
       "      <td>21.9</td>\n",
       "      <td>32.0</td>\n",
       "      <td>27.4</td>\n",
       "      <td>17.1</td>\n",
       "    </tr>\n",
       "    <tr>\n",
       "      <th>1</th>\n",
       "      <td>6.10</td>\n",
       "      <td>Y</td>\n",
       "      <td>M</td>\n",
       "      <td>22</td>\n",
       "      <td>78.5900</td>\n",
       "      <td>1.8400</td>\n",
       "      <td>38.5</td>\n",
       "      <td>93.6</td>\n",
       "      <td>83.0</td>\n",
       "      <td>98.7</td>\n",
       "      <td>58.7</td>\n",
       "      <td>37.3</td>\n",
       "      <td>23.4</td>\n",
       "      <td>30.5</td>\n",
       "      <td>28.9</td>\n",
       "      <td>18.2</td>\n",
       "    </tr>\n",
       "    <tr>\n",
       "      <th>2</th>\n",
       "      <td>25.30</td>\n",
       "      <td>Y</td>\n",
       "      <td>M</td>\n",
       "      <td>22</td>\n",
       "      <td>69.8500</td>\n",
       "      <td>1.6800</td>\n",
       "      <td>34.0</td>\n",
       "      <td>95.8</td>\n",
       "      <td>87.9</td>\n",
       "      <td>99.2</td>\n",
       "      <td>59.6</td>\n",
       "      <td>38.9</td>\n",
       "      <td>24.0</td>\n",
       "      <td>28.8</td>\n",
       "      <td>25.2</td>\n",
       "      <td>16.6</td>\n",
       "    </tr>\n",
       "    <tr>\n",
       "      <th>3</th>\n",
       "      <td>10.40</td>\n",
       "      <td>Y</td>\n",
       "      <td>M</td>\n",
       "      <td>26</td>\n",
       "      <td>83.8000</td>\n",
       "      <td>1.8400</td>\n",
       "      <td>37.4</td>\n",
       "      <td>101.8</td>\n",
       "      <td>86.4</td>\n",
       "      <td>101.2</td>\n",
       "      <td>60.1</td>\n",
       "      <td>37.3</td>\n",
       "      <td>22.8</td>\n",
       "      <td>32.4</td>\n",
       "      <td>29.4</td>\n",
       "      <td>18.2</td>\n",
       "    </tr>\n",
       "    <tr>\n",
       "      <th>4</th>\n",
       "      <td>28.70</td>\n",
       "      <td>Y</td>\n",
       "      <td>M</td>\n",
       "      <td>24</td>\n",
       "      <td>83.5800</td>\n",
       "      <td>1.8100</td>\n",
       "      <td>34.4</td>\n",
       "      <td>97.3</td>\n",
       "      <td>100.0</td>\n",
       "      <td>101.9</td>\n",
       "      <td>63.2</td>\n",
       "      <td>42.2</td>\n",
       "      <td>24.0</td>\n",
       "      <td>32.2</td>\n",
       "      <td>27.7</td>\n",
       "      <td>17.7</td>\n",
       "    </tr>\n",
       "    <tr>\n",
       "      <th>...</th>\n",
       "      <td>...</td>\n",
       "      <td>...</td>\n",
       "      <td>...</td>\n",
       "      <td>...</td>\n",
       "      <td>...</td>\n",
       "      <td>...</td>\n",
       "      <td>...</td>\n",
       "      <td>...</td>\n",
       "      <td>...</td>\n",
       "      <td>...</td>\n",
       "      <td>...</td>\n",
       "      <td>...</td>\n",
       "      <td>...</td>\n",
       "      <td>...</td>\n",
       "      <td>...</td>\n",
       "      <td>...</td>\n",
       "    </tr>\n",
       "    <tr>\n",
       "      <th>431</th>\n",
       "      <td>30.40</td>\n",
       "      <td>N</td>\n",
       "      <td>F</td>\n",
       "      <td>23</td>\n",
       "      <td>59.8752</td>\n",
       "      <td>1.5621</td>\n",
       "      <td>31.3</td>\n",
       "      <td>89.0</td>\n",
       "      <td>71.0</td>\n",
       "      <td>98.5</td>\n",
       "      <td>56.0</td>\n",
       "      <td>36.2</td>\n",
       "      <td>21.0</td>\n",
       "      <td>28.0</td>\n",
       "      <td>24.5</td>\n",
       "      <td>16.3</td>\n",
       "    </tr>\n",
       "    <tr>\n",
       "      <th>432</th>\n",
       "      <td>7.47</td>\n",
       "      <td>N</td>\n",
       "      <td>F</td>\n",
       "      <td>21</td>\n",
       "      <td>48.5352</td>\n",
       "      <td>1.5748</td>\n",
       "      <td>29.5</td>\n",
       "      <td>79.0</td>\n",
       "      <td>62.5</td>\n",
       "      <td>89.0</td>\n",
       "      <td>49.0</td>\n",
       "      <td>33.0</td>\n",
       "      <td>20.0</td>\n",
       "      <td>25.0</td>\n",
       "      <td>22.0</td>\n",
       "      <td>15.5</td>\n",
       "    </tr>\n",
       "    <tr>\n",
       "      <th>433</th>\n",
       "      <td>11.98</td>\n",
       "      <td>N</td>\n",
       "      <td>F</td>\n",
       "      <td>20</td>\n",
       "      <td>51.7104</td>\n",
       "      <td>1.5748</td>\n",
       "      <td>31.5</td>\n",
       "      <td>81.5</td>\n",
       "      <td>61.5</td>\n",
       "      <td>90.0</td>\n",
       "      <td>49.5</td>\n",
       "      <td>32.0</td>\n",
       "      <td>19.5</td>\n",
       "      <td>27.5</td>\n",
       "      <td>22.5</td>\n",
       "      <td>15.0</td>\n",
       "    </tr>\n",
       "    <tr>\n",
       "      <th>434</th>\n",
       "      <td>11.24</td>\n",
       "      <td>N</td>\n",
       "      <td>F</td>\n",
       "      <td>22</td>\n",
       "      <td>50.8032</td>\n",
       "      <td>1.6510</td>\n",
       "      <td>30.5</td>\n",
       "      <td>85.0</td>\n",
       "      <td>64.0</td>\n",
       "      <td>88.0</td>\n",
       "      <td>45.0</td>\n",
       "      <td>32.0</td>\n",
       "      <td>19.5</td>\n",
       "      <td>24.0</td>\n",
       "      <td>21.5</td>\n",
       "      <td>15.0</td>\n",
       "    </tr>\n",
       "    <tr>\n",
       "      <th>435</th>\n",
       "      <td>17.49</td>\n",
       "      <td>N</td>\n",
       "      <td>F</td>\n",
       "      <td>24</td>\n",
       "      <td>47.6280</td>\n",
       "      <td>1.6002</td>\n",
       "      <td>26.0</td>\n",
       "      <td>79.3</td>\n",
       "      <td>63.0</td>\n",
       "      <td>86.6</td>\n",
       "      <td>46.0</td>\n",
       "      <td>33.5</td>\n",
       "      <td>19.0</td>\n",
       "      <td>24.0</td>\n",
       "      <td>21.5</td>\n",
       "      <td>14.0</td>\n",
       "    </tr>\n",
       "  </tbody>\n",
       "</table>\n",
       "<p>416 rows × 16 columns</p>\n",
       "</div>"
      ],
      "text/plain": [
       "     BodyFat Original Sex  Age   Weight  Height  Neck  Chest  Abdomen    Hip  \\\n",
       "0      12.30        Y   M   23  69.9700  1.7200  36.2   93.1     85.2   94.5   \n",
       "1       6.10        Y   M   22  78.5900  1.8400  38.5   93.6     83.0   98.7   \n",
       "2      25.30        Y   M   22  69.8500  1.6800  34.0   95.8     87.9   99.2   \n",
       "3      10.40        Y   M   26  83.8000  1.8400  37.4  101.8     86.4  101.2   \n",
       "4      28.70        Y   M   24  83.5800  1.8100  34.4   97.3    100.0  101.9   \n",
       "..       ...      ...  ..  ...      ...     ...   ...    ...      ...    ...   \n",
       "431    30.40        N   F   23  59.8752  1.5621  31.3   89.0     71.0   98.5   \n",
       "432     7.47        N   F   21  48.5352  1.5748  29.5   79.0     62.5   89.0   \n",
       "433    11.98        N   F   20  51.7104  1.5748  31.5   81.5     61.5   90.0   \n",
       "434    11.24        N   F   22  50.8032  1.6510  30.5   85.0     64.0   88.0   \n",
       "435    17.49        N   F   24  47.6280  1.6002  26.0   79.3     63.0   86.6   \n",
       "\n",
       "     Thigh  Knee  Ankle  Biceps  Forearm  Wrist  \n",
       "0     59.0  37.3   21.9    32.0     27.4   17.1  \n",
       "1     58.7  37.3   23.4    30.5     28.9   18.2  \n",
       "2     59.6  38.9   24.0    28.8     25.2   16.6  \n",
       "3     60.1  37.3   22.8    32.4     29.4   18.2  \n",
       "4     63.2  42.2   24.0    32.2     27.7   17.7  \n",
       "..     ...   ...    ...     ...      ...    ...  \n",
       "431   56.0  36.2   21.0    28.0     24.5   16.3  \n",
       "432   49.0  33.0   20.0    25.0     22.0   15.5  \n",
       "433   49.5  32.0   19.5    27.5     22.5   15.0  \n",
       "434   45.0  32.0   19.5    24.0     21.5   15.0  \n",
       "435   46.0  33.5   19.0    24.0     21.5   14.0  \n",
       "\n",
       "[416 rows x 16 columns]"
      ]
     },
     "execution_count": 198,
     "metadata": {},
     "output_type": "execute_result"
    }
   ],
   "source": [
    "columns = data.columns\n",
    "for col in columns:\n",
    "    if type(data[col][0]) != str:\n",
    "        Q1 = data[col].quantile(0.25)\n",
    "        Q3 = data[col].quantile(0.75)\n",
    "        IQR = Q3 - Q1    #IQR is interquartile range. \n",
    "\n",
    "        filter = (data[col] >= Q1 - 1.5 * IQR) & (data[col] <= Q3 + 1.5 *IQR)\n",
    "        data = data.loc[filter]  \n",
    "\n",
    "data"
   ]
  },
  {
   "cell_type": "code",
   "execution_count": 199,
   "metadata": {},
   "outputs": [
    {
     "data": {
      "text/html": [
       "<div>\n",
       "<style scoped>\n",
       "    .dataframe tbody tr th:only-of-type {\n",
       "        vertical-align: middle;\n",
       "    }\n",
       "\n",
       "    .dataframe tbody tr th {\n",
       "        vertical-align: top;\n",
       "    }\n",
       "\n",
       "    .dataframe thead th {\n",
       "        text-align: right;\n",
       "    }\n",
       "</style>\n",
       "<table border=\"1\" class=\"dataframe\">\n",
       "  <thead>\n",
       "    <tr style=\"text-align: right;\">\n",
       "      <th></th>\n",
       "      <th>BodyFat</th>\n",
       "      <th>Original</th>\n",
       "      <th>Sex</th>\n",
       "      <th>Age</th>\n",
       "      <th>Weight</th>\n",
       "      <th>Height</th>\n",
       "      <th>Neck</th>\n",
       "      <th>Chest</th>\n",
       "      <th>Abdomen</th>\n",
       "      <th>Hip</th>\n",
       "      <th>Thigh</th>\n",
       "      <th>Knee</th>\n",
       "      <th>Ankle</th>\n",
       "      <th>Biceps</th>\n",
       "      <th>Forearm</th>\n",
       "      <th>Wrist</th>\n",
       "    </tr>\n",
       "  </thead>\n",
       "  <tbody>\n",
       "    <tr>\n",
       "      <th>0</th>\n",
       "      <td>12.30</td>\n",
       "      <td>Y</td>\n",
       "      <td>M</td>\n",
       "      <td>23</td>\n",
       "      <td>69.9700</td>\n",
       "      <td>1.7200</td>\n",
       "      <td>36.2</td>\n",
       "      <td>93.1</td>\n",
       "      <td>85.2</td>\n",
       "      <td>94.5</td>\n",
       "      <td>59.0</td>\n",
       "      <td>37.3</td>\n",
       "      <td>21.9</td>\n",
       "      <td>32.0</td>\n",
       "      <td>27.4</td>\n",
       "      <td>17.1</td>\n",
       "    </tr>\n",
       "    <tr>\n",
       "      <th>1</th>\n",
       "      <td>6.10</td>\n",
       "      <td>Y</td>\n",
       "      <td>M</td>\n",
       "      <td>22</td>\n",
       "      <td>78.5900</td>\n",
       "      <td>1.8400</td>\n",
       "      <td>38.5</td>\n",
       "      <td>93.6</td>\n",
       "      <td>83.0</td>\n",
       "      <td>98.7</td>\n",
       "      <td>58.7</td>\n",
       "      <td>37.3</td>\n",
       "      <td>23.4</td>\n",
       "      <td>30.5</td>\n",
       "      <td>28.9</td>\n",
       "      <td>18.2</td>\n",
       "    </tr>\n",
       "    <tr>\n",
       "      <th>2</th>\n",
       "      <td>25.30</td>\n",
       "      <td>Y</td>\n",
       "      <td>M</td>\n",
       "      <td>22</td>\n",
       "      <td>69.8500</td>\n",
       "      <td>1.6800</td>\n",
       "      <td>34.0</td>\n",
       "      <td>95.8</td>\n",
       "      <td>87.9</td>\n",
       "      <td>99.2</td>\n",
       "      <td>59.6</td>\n",
       "      <td>38.9</td>\n",
       "      <td>24.0</td>\n",
       "      <td>28.8</td>\n",
       "      <td>25.2</td>\n",
       "      <td>16.6</td>\n",
       "    </tr>\n",
       "    <tr>\n",
       "      <th>3</th>\n",
       "      <td>10.40</td>\n",
       "      <td>Y</td>\n",
       "      <td>M</td>\n",
       "      <td>26</td>\n",
       "      <td>83.8000</td>\n",
       "      <td>1.8400</td>\n",
       "      <td>37.4</td>\n",
       "      <td>101.8</td>\n",
       "      <td>86.4</td>\n",
       "      <td>101.2</td>\n",
       "      <td>60.1</td>\n",
       "      <td>37.3</td>\n",
       "      <td>22.8</td>\n",
       "      <td>32.4</td>\n",
       "      <td>29.4</td>\n",
       "      <td>18.2</td>\n",
       "    </tr>\n",
       "    <tr>\n",
       "      <th>4</th>\n",
       "      <td>28.70</td>\n",
       "      <td>Y</td>\n",
       "      <td>M</td>\n",
       "      <td>24</td>\n",
       "      <td>83.5800</td>\n",
       "      <td>1.8100</td>\n",
       "      <td>34.4</td>\n",
       "      <td>97.3</td>\n",
       "      <td>100.0</td>\n",
       "      <td>101.9</td>\n",
       "      <td>63.2</td>\n",
       "      <td>42.2</td>\n",
       "      <td>24.0</td>\n",
       "      <td>32.2</td>\n",
       "      <td>27.7</td>\n",
       "      <td>17.7</td>\n",
       "    </tr>\n",
       "    <tr>\n",
       "      <th>...</th>\n",
       "      <td>...</td>\n",
       "      <td>...</td>\n",
       "      <td>...</td>\n",
       "      <td>...</td>\n",
       "      <td>...</td>\n",
       "      <td>...</td>\n",
       "      <td>...</td>\n",
       "      <td>...</td>\n",
       "      <td>...</td>\n",
       "      <td>...</td>\n",
       "      <td>...</td>\n",
       "      <td>...</td>\n",
       "      <td>...</td>\n",
       "      <td>...</td>\n",
       "      <td>...</td>\n",
       "      <td>...</td>\n",
       "    </tr>\n",
       "    <tr>\n",
       "      <th>431</th>\n",
       "      <td>30.40</td>\n",
       "      <td>N</td>\n",
       "      <td>F</td>\n",
       "      <td>23</td>\n",
       "      <td>59.8752</td>\n",
       "      <td>1.5621</td>\n",
       "      <td>31.3</td>\n",
       "      <td>89.0</td>\n",
       "      <td>71.0</td>\n",
       "      <td>98.5</td>\n",
       "      <td>56.0</td>\n",
       "      <td>36.2</td>\n",
       "      <td>21.0</td>\n",
       "      <td>28.0</td>\n",
       "      <td>24.5</td>\n",
       "      <td>16.3</td>\n",
       "    </tr>\n",
       "    <tr>\n",
       "      <th>432</th>\n",
       "      <td>7.47</td>\n",
       "      <td>N</td>\n",
       "      <td>F</td>\n",
       "      <td>21</td>\n",
       "      <td>48.5352</td>\n",
       "      <td>1.5748</td>\n",
       "      <td>29.5</td>\n",
       "      <td>79.0</td>\n",
       "      <td>62.5</td>\n",
       "      <td>89.0</td>\n",
       "      <td>49.0</td>\n",
       "      <td>33.0</td>\n",
       "      <td>20.0</td>\n",
       "      <td>25.0</td>\n",
       "      <td>22.0</td>\n",
       "      <td>15.5</td>\n",
       "    </tr>\n",
       "    <tr>\n",
       "      <th>433</th>\n",
       "      <td>11.98</td>\n",
       "      <td>N</td>\n",
       "      <td>F</td>\n",
       "      <td>20</td>\n",
       "      <td>51.7104</td>\n",
       "      <td>1.5748</td>\n",
       "      <td>31.5</td>\n",
       "      <td>81.5</td>\n",
       "      <td>61.5</td>\n",
       "      <td>90.0</td>\n",
       "      <td>49.5</td>\n",
       "      <td>32.0</td>\n",
       "      <td>19.5</td>\n",
       "      <td>27.5</td>\n",
       "      <td>22.5</td>\n",
       "      <td>15.0</td>\n",
       "    </tr>\n",
       "    <tr>\n",
       "      <th>434</th>\n",
       "      <td>11.24</td>\n",
       "      <td>N</td>\n",
       "      <td>F</td>\n",
       "      <td>22</td>\n",
       "      <td>50.8032</td>\n",
       "      <td>1.6510</td>\n",
       "      <td>30.5</td>\n",
       "      <td>85.0</td>\n",
       "      <td>64.0</td>\n",
       "      <td>88.0</td>\n",
       "      <td>45.0</td>\n",
       "      <td>32.0</td>\n",
       "      <td>19.5</td>\n",
       "      <td>24.0</td>\n",
       "      <td>21.5</td>\n",
       "      <td>15.0</td>\n",
       "    </tr>\n",
       "    <tr>\n",
       "      <th>435</th>\n",
       "      <td>17.49</td>\n",
       "      <td>N</td>\n",
       "      <td>F</td>\n",
       "      <td>24</td>\n",
       "      <td>47.6280</td>\n",
       "      <td>1.6002</td>\n",
       "      <td>26.0</td>\n",
       "      <td>79.3</td>\n",
       "      <td>63.0</td>\n",
       "      <td>86.6</td>\n",
       "      <td>46.0</td>\n",
       "      <td>33.5</td>\n",
       "      <td>19.0</td>\n",
       "      <td>24.0</td>\n",
       "      <td>21.5</td>\n",
       "      <td>14.0</td>\n",
       "    </tr>\n",
       "  </tbody>\n",
       "</table>\n",
       "<p>415 rows × 16 columns</p>\n",
       "</div>"
      ],
      "text/plain": [
       "     BodyFat Original Sex  Age   Weight  Height  Neck  Chest  Abdomen    Hip  \\\n",
       "0      12.30        Y   M   23  69.9700  1.7200  36.2   93.1     85.2   94.5   \n",
       "1       6.10        Y   M   22  78.5900  1.8400  38.5   93.6     83.0   98.7   \n",
       "2      25.30        Y   M   22  69.8500  1.6800  34.0   95.8     87.9   99.2   \n",
       "3      10.40        Y   M   26  83.8000  1.8400  37.4  101.8     86.4  101.2   \n",
       "4      28.70        Y   M   24  83.5800  1.8100  34.4   97.3    100.0  101.9   \n",
       "..       ...      ...  ..  ...      ...     ...   ...    ...      ...    ...   \n",
       "431    30.40        N   F   23  59.8752  1.5621  31.3   89.0     71.0   98.5   \n",
       "432     7.47        N   F   21  48.5352  1.5748  29.5   79.0     62.5   89.0   \n",
       "433    11.98        N   F   20  51.7104  1.5748  31.5   81.5     61.5   90.0   \n",
       "434    11.24        N   F   22  50.8032  1.6510  30.5   85.0     64.0   88.0   \n",
       "435    17.49        N   F   24  47.6280  1.6002  26.0   79.3     63.0   86.6   \n",
       "\n",
       "     Thigh  Knee  Ankle  Biceps  Forearm  Wrist  \n",
       "0     59.0  37.3   21.9    32.0     27.4   17.1  \n",
       "1     58.7  37.3   23.4    30.5     28.9   18.2  \n",
       "2     59.6  38.9   24.0    28.8     25.2   16.6  \n",
       "3     60.1  37.3   22.8    32.4     29.4   18.2  \n",
       "4     63.2  42.2   24.0    32.2     27.7   17.7  \n",
       "..     ...   ...    ...     ...      ...    ...  \n",
       "431   56.0  36.2   21.0    28.0     24.5   16.3  \n",
       "432   49.0  33.0   20.0    25.0     22.0   15.5  \n",
       "433   49.5  32.0   19.5    27.5     22.5   15.0  \n",
       "434   45.0  32.0   19.5    24.0     21.5   15.0  \n",
       "435   46.0  33.5   19.0    24.0     21.5   14.0  \n",
       "\n",
       "[415 rows x 16 columns]"
      ]
     },
     "execution_count": 199,
     "metadata": {},
     "output_type": "execute_result"
    }
   ],
   "source": [
    "data = data[data['Age'] > 1]\n",
    "data"
   ]
  },
  {
   "cell_type": "code",
   "execution_count": 200,
   "metadata": {},
   "outputs": [
    {
     "data": {
      "text/plain": [
       "array([[<Axes: title={'center': 'BodyFat'}>,\n",
       "        <Axes: title={'center': 'Age'}>,\n",
       "        <Axes: title={'center': 'Weight'}>,\n",
       "        <Axes: title={'center': 'Height'}>],\n",
       "       [<Axes: title={'center': 'Neck'}>,\n",
       "        <Axes: title={'center': 'Chest'}>,\n",
       "        <Axes: title={'center': 'Abdomen'}>,\n",
       "        <Axes: title={'center': 'Hip'}>],\n",
       "       [<Axes: title={'center': 'Thigh'}>,\n",
       "        <Axes: title={'center': 'Knee'}>,\n",
       "        <Axes: title={'center': 'Ankle'}>,\n",
       "        <Axes: title={'center': 'Biceps'}>],\n",
       "       [<Axes: title={'center': 'Forearm'}>,\n",
       "        <Axes: title={'center': 'Wrist'}>, <Axes: >, <Axes: >]],\n",
       "      dtype=object)"
      ]
     },
     "execution_count": 200,
     "metadata": {},
     "output_type": "execute_result"
    },
    {
     "data": {
      "image/png": "[encoded data removed]",
      "text/plain": [
       "<Figure size 1000x1000 with 16 Axes>"
      ]
     },
     "metadata": {},
     "output_type": "display_data"
    }
   ],
   "source": [
    "data.hist(figsize= (10, 10))"
   ]
  },
  {
   "cell_type": "markdown",
   "metadata": {},
   "source": [
    "## Feature engineering"
   ]
  },
  {
   "cell_type": "markdown",
   "metadata": {},
   "source": [
    "Check for normality "
   ]
  },
  {
   "cell_type": "code",
   "execution_count": 201,
   "metadata": {},
   "outputs": [
    {
     "data": {
      "text/plain": [
       "array([1.39389533e-01, 1.93758638e-10, 1.76662554e-04, 8.17859746e-04,\n",
       "       5.61906398e-33, 3.76344574e-04, 4.42084083e-18, 2.25714305e-01,\n",
       "       4.54129187e-02, 2.59026837e-02, 4.82089870e-02, 1.69243381e-05,\n",
       "       2.60321862e-17, 8.03140039e-14])"
      ]
     },
     "execution_count": 201,
     "metadata": {},
     "output_type": "execute_result"
    }
   ],
   "source": [
    "num_cols = [col for col in columns if type(data[col][0]) != str]\n",
    "plain_data = normaltest(data[num_cols]).pvalue\n",
    "plain_data"
   ]
  },
  {
   "cell_type": "code",
   "execution_count": 240,
   "metadata": {},
   "outputs": [
    {
     "data": {
      "text/plain": [
       "[0.13592595726775505,\n",
       " 0.0,\n",
       " 0.00010386956217976711,\n",
       " 0.000503471041775316,\n",
       " 9.58125090528903e-33,\n",
       " 1.6058911923355962e-05,\n",
       " 5.42307389158732e-37,\n",
       " 0.5609147730117165,\n",
       " 0.07140830499817023,\n",
       " 0.014924373475088732,\n",
       " 0.11373107925497553,\n",
       " 2.2268829121848083e-05,\n",
       " 8.497748514097739e-18,\n",
       " 1.649388974064694e-13]"
      ]
     },
     "execution_count": 240,
     "metadata": {},
     "output_type": "execute_result"
    }
   ],
   "source": [
    "bxcx_data"
   ]
  },
  {
   "cell_type": "markdown",
   "metadata": {},
   "source": [
    "Lets see if we can improve this with some transformations"
   ]
  },
  {
   "cell_type": "code",
   "execution_count": 202,
   "metadata": {},
   "outputs": [
    {
     "data": {
      "text/plain": [
       "array([0, 0, 0, 0, 1, 0, 0, 3, 1, 0, 1, 1, 1, 1], dtype=int64)"
      ]
     },
     "execution_count": 202,
     "metadata": {},
     "output_type": "execute_result"
    }
   ],
   "source": [
    "log_data = normaltest(np.log(data[num_cols])).pvalue\n",
    "sqrt_data = normaltest(np.sqrt(data[num_cols])).pvalue\n",
    "bxcx_data = [normaltest(boxcox(data[col])[0]).pvalue for col in num_cols]\n",
    "\n",
    "transf_data = np.array([plain_data, log_data, sqrt_data, bxcx_data])\n",
    "transf_data.argmax(axis = 0)"
   ]
  },
  {
   "cell_type": "markdown",
   "metadata": {},
   "source": [
    "So we perform the following transformations:"
   ]
  },
  {
   "cell_type": "code",
   "execution_count": 203,
   "metadata": {},
   "outputs": [
    {
     "data": {
      "text/plain": [
       "array([1.39389533e-01, 1.93758638e-10, 1.76662554e-04, 8.17859746e-04,\n",
       "       5.61906398e-33, 3.76344574e-04, 4.42084083e-18, 2.25714305e-01,\n",
       "       4.54129187e-02, 2.59026837e-02, 4.82089870e-02, 1.69243381e-05,\n",
       "       2.60321862e-17, 8.03140039e-14])"
      ]
     },
     "execution_count": 203,
     "metadata": {},
     "output_type": "execute_result"
    }
   ],
   "source": [
    "plain_data"
   ]
  },
  {
   "cell_type": "code",
   "execution_count": 204,
   "metadata": {},
   "outputs": [
    {
     "data": {
      "text/plain": [
       "array([[<Axes: title={'center': 'BodyFat'}>,\n",
       "        <Axes: title={'center': 'Age'}>,\n",
       "        <Axes: title={'center': 'Weight'}>,\n",
       "        <Axes: title={'center': 'Height'}>],\n",
       "       [<Axes: title={'center': 'Neck'}>,\n",
       "        <Axes: title={'center': 'Chest'}>,\n",
       "        <Axes: title={'center': 'Abdomen'}>,\n",
       "        <Axes: title={'center': 'Hip'}>],\n",
       "       [<Axes: title={'center': 'Thigh'}>,\n",
       "        <Axes: title={'center': 'Knee'}>,\n",
       "        <Axes: title={'center': 'Ankle'}>,\n",
       "        <Axes: title={'center': 'Biceps'}>],\n",
       "       [<Axes: title={'center': 'Forearm'}>,\n",
       "        <Axes: title={'center': 'Wrist'}>, <Axes: >, <Axes: >]],\n",
       "      dtype=object)"
      ]
     },
     "execution_count": 204,
     "metadata": {},
     "output_type": "execute_result"
    },
    {
     "data": {
      "image/png": "[encoded data removed]",
      "text/plain": [
       "<Figure size 1000x1000 with 16 Axes>"
      ]
     },
     "metadata": {},
     "output_type": "display_data"
    }
   ],
   "source": [
    "data[columns[4]] = np.sqrt(data[columns[4]])\n",
    "data[columns[6]] = np.log(data[columns[6]])\n",
    "data[columns[9]] = boxcox(data[columns[9]])[0]\n",
    "data[columns[10]] = boxcox(data[columns[10]])[0]\n",
    "data[columns[11]] = np.sqrt(data[columns[11]])\n",
    "data[columns[12]] = boxcox(data[columns[12]])[0]\n",
    "data[columns[13]] = np.log(data[columns[13]])\n",
    "data[columns[15]] = np.log(data[columns[15]])\n",
    "\n",
    "data.hist(figsize=(10, 10))"
   ]
  },
  {
   "cell_type": "markdown",
   "metadata": {},
   "source": [
    "Split in test and train dataset"
   ]
  },
  {
   "cell_type": "code",
   "execution_count": 205,
   "metadata": {},
   "outputs": [],
   "source": [
    "data = data[[col for col in columns if col != 'BodyFat'] + ['BodyFat']]\n",
    "data.drop('Original', axis = 1, inplace=True)"
   ]
  },
  {
   "cell_type": "code",
   "execution_count": 206,
   "metadata": {},
   "outputs": [],
   "source": [
    "f_data = data[data['Sex'] == 'F']\n",
    "m_data = data[data['Sex'] == 'M']"
   ]
  },
  {
   "cell_type": "code",
   "execution_count": 207,
   "metadata": {},
   "outputs": [],
   "source": [
    "# Reorder columns\n",
    "columns = data.columns\n",
    "data = data[[col for col in columns if col != 'BodyFat'] + ['BodyFat']]\n",
    "columns = data.columns\n",
    "\n",
    "X = data[columns[1:-1]]\n",
    "y = data[columns[-1]]\n"
   ]
  },
  {
   "cell_type": "markdown",
   "metadata": {},
   "source": [
    "Use standard scaler to transform our data"
   ]
  },
  {
   "cell_type": "code",
   "execution_count": 208,
   "metadata": {},
   "outputs": [],
   "source": [
    "std_scaler = StandardScaler()"
   ]
  },
  {
   "cell_type": "markdown",
   "metadata": {},
   "source": [
    "Create dataset with polynomial features"
   ]
  },
  {
   "cell_type": "code",
   "execution_count": 209,
   "metadata": {},
   "outputs": [],
   "source": [
    "poly = PolynomialFeatures(degree = 2)\n",
    "X_poly = poly.fit_transform(X)"
   ]
  },
  {
   "cell_type": "markdown",
   "metadata": {},
   "source": [
    "## Regression models "
   ]
  },
  {
   "cell_type": "markdown",
   "metadata": {},
   "source": [
    "### Plain linear regression"
   ]
  },
  {
   "cell_type": "code",
   "execution_count": 210,
   "metadata": {},
   "outputs": [
    {
     "data": {
      "text/plain": [
       "0.49742683706365404"
      ]
     },
     "execution_count": 210,
     "metadata": {},
     "output_type": "execute_result"
    }
   ],
   "source": [
    "lr = LinearRegression()\n",
    "piplin = Pipeline([('scaler', std_scaler), ('model', lr)])\n",
    "scores = cross_val_score(piplin, X, y, cv = 5)\n",
    "scores.mean()"
   ]
  },
  {
   "cell_type": "markdown",
   "metadata": {},
   "source": [
    "### Lasso regression"
   ]
  },
  {
   "cell_type": "code",
   "execution_count": 241,
   "metadata": {},
   "outputs": [
    {
     "name": "stdout",
     "output_type": "stream",
     "text": [
      "Cross Val mean: -0.10061192621513464\n",
      "Cross Val mean: -0.10061192621513464\n",
      "Cross Val mean: 0.36759949813793436\n",
      "Cross Val mean: 0.502817106308152\n",
      "Cross Val mean: 0.49955333171742683\n",
      "Cross Val mean: 0.49766439574840116\n",
      "Cross Val mean: 0.497451041482016\n",
      "Cross Val mean: 0.49742926483465\n",
      "Cross Val mean: 0.49742708128607627\n",
      "Cross Val mean: 0.49742686149570614\n"
     ]
    }
   ],
   "source": [
    "test_scores_laso = []\n",
    "for ii in range(10):\n",
    "    laso = Lasso(alpha = 10**(2- ii))\n",
    "    piplin = Pipeline([('scaler', std_scaler), ('model', laso)])\n",
    "    print(f\"Cross Val mean: {cross_val_score(piplin, X, y , cv = 5).mean()}\")\n"
   ]
  },
  {
   "cell_type": "markdown",
   "metadata": {},
   "source": [
    "### Ridge regression"
   ]
  },
  {
   "cell_type": "code",
   "execution_count": 212,
   "metadata": {},
   "outputs": [
    {
     "name": "stdout",
     "output_type": "stream",
     "text": [
      "Cross Val mean: 0.08987727093134328\n",
      "Cross Val mean: 0.44176844603317117\n",
      "Cross Val mean: 0.5042298014817354\n",
      "Cross Val mean: 0.49959041264272647\n",
      "Cross Val mean: 0.49768928888370567\n",
      "Cross Val mean: 0.4974536517914336\n",
      "Cross Val mean: 0.4974295243672856\n",
      "Cross Val mean: 0.4974271058524649\n",
      "Cross Val mean: 0.4974268639431201\n",
      "Cross Val mean: 0.4974268397516071\n"
     ]
    }
   ],
   "source": [
    "test_scores_rdg = []\n",
    "for ii in range(10):\n",
    "    rdg = Ridge(alpha = 10**(3- ii))\n",
    "    piplin = Pipeline([('scaler', std_scaler), ('model', rdg)])\n",
    "    print(f\"Cross Val mean: {cross_val_score(piplin, X, y , cv = 5).mean()}\")"
   ]
  },
  {
   "cell_type": "markdown",
   "metadata": {},
   "source": [
    "### Elastic Net"
   ]
  },
  {
   "cell_type": "code",
   "execution_count": 245,
   "metadata": {},
   "outputs": [
    {
     "data": {
      "text/plain": [
       "0.5056379639363714"
      ]
     },
     "execution_count": 245,
     "metadata": {},
     "output_type": "execute_result"
    }
   ],
   "source": [
    "en = ElasticNet(alpha = 10**(5-6), l1_ratio = 0.1*(7+1))\n",
    "piplin = Pipeline([('scaler', std_scaler), ('model', en)])\n",
    "cv_score = cross_val_score(piplin, X, y , cv = 5).mean()\n",
    "cv_score"
   ]
  },
  {
   "cell_type": "code",
   "execution_count": 246,
   "metadata": {},
   "outputs": [
    {
     "name": "stdout",
     "output_type": "stream",
     "text": [
      "Cross Val mean : -0.10061192621513464\n",
      "Cross Val mean : -0.10061192621513464\n",
      "Cross Val mean : -0.10061192621513464\n",
      "Cross Val mean : -0.10061192621513464\n",
      "Cross Val mean : -0.10061192621513464\n",
      "Cross Val mean : -0.10061192621513464\n",
      "Cross Val mean : -0.10061192621513464\n",
      "Cross Val mean : -0.10061192621513464\n",
      "Cross Val mean : -0.10061192621513464\n",
      "Cross Val mean : -0.10061192621513464\n",
      "Cross Val mean : -0.10061192621513464\n",
      "Cross Val mean : -0.10061192621513464\n",
      "Cross Val mean : -0.10061192621513464\n",
      "Cross Val mean : -0.10061192621513464\n",
      "Cross Val mean : -0.10061192621513464\n",
      "Cross Val mean : -0.10061192621513464\n",
      "Cross Val mean : -0.10061192621513464\n",
      "Cross Val mean : -0.10061192621513464\n",
      "Cross Val mean : -0.10061192621513464\n",
      "Cross Val mean : -0.10061192621513464\n",
      "Cross Val mean : -0.10061192621513464\n",
      "Cross Val mean : -0.10061192621513464\n",
      "Cross Val mean : -0.10061192621513464\n",
      "Cross Val mean : -0.10061192621513464\n",
      "Cross Val mean : -0.10061192621513464\n",
      "Cross Val mean : -0.10061192621513464\n",
      "Cross Val mean : -0.10061192621513464\n",
      "Cross Val mean : -0.10061192621513464\n",
      "Cross Val mean : -0.10061192621513464\n",
      "Cross Val mean : -0.10061192621513464\n",
      "Cross Val mean : -0.10061192621513464\n",
      "Cross Val mean : -0.10061192621513464\n",
      "Cross Val mean : -0.10061192621513464\n",
      "Cross Val mean : -0.10061192621513464\n",
      "Cross Val mean : -0.10061192621513464\n",
      "Cross Val mean : -0.10061192621513464\n",
      "Cross Val mean : -0.053784698362417414\n",
      "Cross Val mean : -0.06914878444292935\n",
      "Cross Val mean : -0.08203692413289651\n",
      "Cross Val mean : -0.09885075866975512\n",
      "Cross Val mean : -0.10061192621513464\n",
      "Cross Val mean : -0.10061192621513464\n",
      "Cross Val mean : -0.10061192621513464\n",
      "Cross Val mean : -0.10061192621513464\n",
      "Cross Val mean : -0.10061192621513464\n",
      "Cross Val mean : 0.2769454393922627\n",
      "Cross Val mean : 0.2762975004041258\n",
      "Cross Val mean : 0.27592371798944865\n",
      "Cross Val mean : 0.2751158924918502\n",
      "Cross Val mean : 0.2770810088565253\n",
      "Cross Val mean : 0.28401476328347763\n",
      "Cross Val mean : 0.29664887750790897\n",
      "Cross Val mean : 0.3162718857583142\n",
      "Cross Val mean : 0.33810646220658924\n",
      "Cross Val mean : 0.49664176535370486\n",
      "Cross Val mean : 0.4982399136205755\n",
      "Cross Val mean : 0.49979356727348206\n",
      "Cross Val mean : 0.501294038696301\n",
      "Cross Val mean : 0.5027703582610048\n",
      "Cross Val mean : 0.5041059629282113\n",
      "Cross Val mean : 0.505167965484735\n",
      "Cross Val mean : 0.5056379639363714\n",
      "Cross Val mean : 0.5051835353572202\n",
      "Cross Val mean : 0.5022383336066031\n",
      "Cross Val mean : 0.5021380499737742\n",
      "Cross Val mean : 0.5020251853976303\n",
      "Cross Val mean : 0.501895711600322\n",
      "Cross Val mean : 0.5017535136340487\n",
      "Cross Val mean : 0.5014706426340739\n",
      "Cross Val mean : 0.5010625252436665\n",
      "Cross Val mean : 0.5006214000907081\n",
      "Cross Val mean : 0.5001172962527234\n",
      "Cross Val mean : 0.4981976019910732\n",
      "Cross Val mean : 0.49814124506771745\n",
      "Cross Val mean : 0.49808431613096965\n",
      "Cross Val mean : 0.49802669251991516\n",
      "Cross Val mean : 0.4979682946587431\n",
      "Cross Val mean : 0.49790917748635566\n",
      "Cross Val mean : 0.4978491874120291\n",
      "Cross Val mean : 0.49778840134541846\n",
      "Cross Val mean : 0.4977268506316229\n",
      "Cross Val mean : 0.49750897783332243\n",
      "Cross Val mean : 0.49750257964463585\n",
      "Cross Val mean : 0.4974961734804804\n",
      "Cross Val mean : 0.4974897577253067\n",
      "Cross Val mean : 0.49748333353015195\n",
      "Cross Val mean : 0.49747688000753565\n",
      "Cross Val mean : 0.4974704365158571\n",
      "Cross Val mean : 0.4974639773871726\n",
      "Cross Val mean : 0.4974575119707573\n"
     ]
    },
    {
     "data": {
      "text/plain": [
       "0.5056379639363714"
      ]
     },
     "execution_count": 246,
     "metadata": {},
     "output_type": "execute_result"
    }
   ],
   "source": [
    "elastic_net_means = []\n",
    "for ii in range(10):\n",
    "    for jj in range(9):\n",
    "        en = ElasticNet(alpha = 10**(5-ii), l1_ratio = 0.1*(jj+1))\n",
    "        piplin = Pipeline([('scaler', std_scaler), ('model', en)])\n",
    "        cv_score = cross_val_score(piplin, X, y , cv = 5).mean()\n",
    "        print(f\"Cross Val mean : {cv_score}\")\n",
    "        elastic_net_means.append(cv_score)\n",
    "max(elastic_net_means)"
   ]
  },
  {
   "cell_type": "code",
   "execution_count": null,
   "metadata": {},
   "outputs": [],
   "source": []
  },
  {
   "cell_type": "markdown",
   "metadata": {},
   "source": [
    "## Polynomial regression (degree = 2)"
   ]
  },
  {
   "cell_type": "markdown",
   "metadata": {},
   "source": [
    "### Plain linear regression"
   ]
  },
  {
   "cell_type": "code",
   "execution_count": 214,
   "metadata": {},
   "outputs": [
    {
     "name": "stdout",
     "output_type": "stream",
     "text": [
      "Cross Val mean: 0.3368812033109396\n"
     ]
    }
   ],
   "source": [
    "lr = LinearRegression()\n",
    "piplin = Pipeline([('scaler', std_scaler), ('model', lr)])\n",
    "print(f\"Cross Val mean: {cross_val_score(piplin, X_poly, y , cv = 5).mean()}\")"
   ]
  },
  {
   "cell_type": "markdown",
   "metadata": {},
   "source": [
    "### Lasso regression"
   ]
  },
  {
   "cell_type": "code",
   "execution_count": 215,
   "metadata": {},
   "outputs": [
    {
     "name": "stdout",
     "output_type": "stream",
     "text": [
      "Cross Val mean: 0.3595501171067701\n",
      "Cross Val mean: 0.4960610077364899\n",
      "Cross Val mean: 0.5159502901431806\n",
      "Cross Val mean: 0.5239130498419975\n",
      "Cross Val mean: 0.5226472767398186\n",
      "Cross Val mean: 0.5224765476659484\n",
      "Cross Val mean: 0.5224585463889019\n"
     ]
    }
   ],
   "source": [
    "for ii in range(7):\n",
    "    laso = Lasso(alpha = 10**(- ii))\n",
    "    piplin = Pipeline([('scaler', std_scaler), ('model', laso)])\n",
    "    print(f\"Cross Val mean: {cross_val_score(piplin, X_poly, y , cv = 5).mean()}\")"
   ]
  },
  {
   "cell_type": "markdown",
   "metadata": {},
   "source": [
    "### Ridge regression"
   ]
  },
  {
   "cell_type": "code",
   "execution_count": 216,
   "metadata": {},
   "outputs": [
    {
     "name": "stdout",
     "output_type": "stream",
     "text": [
      "Cross Val mean: -0.09299731329720382\n",
      "Cross Val mean: -0.03668891174823115\n",
      "Cross Val mean: 0.30045017809363556\n",
      "Cross Val mean: 0.48862441524182787\n",
      "Cross Val mean: 0.5084247419866855\n",
      "Cross Val mean: 0.5275243023175452\n",
      "Cross Val mean: 0.5309699674857589\n",
      "Cross Val mean: 0.5092651156497012\n",
      "Cross Val mean: 0.47233188751154004\n",
      "Cross Val mean: 0.40004148948518825\n"
     ]
    }
   ],
   "source": [
    "for ii in range(10):\n",
    "    rdg = Ridge(alpha = 10**(5 - ii))\n",
    "    piplin = Pipeline([('scaler', std_scaler), ('model', rdg)])\n",
    "    print(f\"Cross Val mean: {cross_val_score(piplin, X_poly, y , cv = 5).mean()}\")"
   ]
  },
  {
   "cell_type": "markdown",
   "metadata": {},
   "source": [
    "### Elastic Net"
   ]
  },
  {
   "cell_type": "code",
   "execution_count": 247,
   "metadata": {},
   "outputs": [
    {
     "data": {
      "text/plain": [
       "46"
      ]
     },
     "execution_count": 247,
     "metadata": {},
     "output_type": "execute_result"
    }
   ],
   "source": [
    "np.argmax(test_scores_en)"
   ]
  },
  {
   "cell_type": "code",
   "execution_count": 217,
   "metadata": {},
   "outputs": [
    {
     "name": "stdout",
     "output_type": "stream",
     "text": [
      "Cross Val mean: -0.10061192621513464\n",
      "Cross Val mean: -0.10061192621513464\n",
      "Cross Val mean: -0.10061192621513464\n",
      "Cross Val mean: -0.10061192621513464\n",
      "Cross Val mean: -0.10061192621513464\n",
      "Cross Val mean: -0.10061192621513464\n",
      "Cross Val mean: -0.10061192621513464\n",
      "Cross Val mean: -0.10061192621513464\n",
      "Cross Val mean: -0.10061192621513464\n",
      "Cross Val mean: -0.028738026397473627\n",
      "Cross Val mean: -0.05064670498768973\n",
      "Cross Val mean: -0.068087112974986\n",
      "Cross Val mean: -0.09753196285993596\n",
      "Cross Val mean: -0.10061192621513464\n",
      "Cross Val mean: -0.10061192621513464\n",
      "Cross Val mean: -0.10061192621513464\n",
      "Cross Val mean: -0.10061192621513464\n",
      "Cross Val mean: -0.10061192621513464\n",
      "Cross Val mean: 0.4220790558464517\n",
      "Cross Val mean: 0.4112719725480062\n",
      "Cross Val mean: 0.39751530701989435\n",
      "Cross Val mean: 0.3826859600449321\n",
      "Cross Val mean: 0.37231585461145666\n",
      "Cross Val mean: 0.36477113973362635\n",
      "Cross Val mean: 0.35819914809360853\n",
      "Cross Val mean: 0.356963059647057\n",
      "Cross Val mean: 0.35642473927103174\n",
      "Cross Val mean: 0.5014198099681221\n",
      "Cross Val mean: 0.5012703410803244\n",
      "Cross Val mean: 0.5008233328265858\n",
      "Cross Val mean: 0.5002459394122516\n",
      "Cross Val mean: 0.5002229472236321\n",
      "Cross Val mean: 0.5003604186976338\n",
      "Cross Val mean: 0.49977648419620113\n",
      "Cross Val mean: 0.4993782762177988\n",
      "Cross Val mean: 0.4985033547165381\n",
      "Cross Val mean: 0.5183903375376364\n",
      "Cross Val mean: 0.5178869675236134\n",
      "Cross Val mean: 0.5173389771397338\n",
      "Cross Val mean: 0.5164494844002698\n",
      "Cross Val mean: 0.5156906011026814\n",
      "Cross Val mean: 0.5152884435111471\n",
      "Cross Val mean: 0.5155178470418076\n",
      "Cross Val mean: 0.5166859269872437\n",
      "Cross Val mean: 0.5175739050874799\n",
      "Cross Val mean: 0.5245337415063306\n",
      "Cross Val mean: 0.5245662333416552\n",
      "Cross Val mean: 0.5245594023729118\n",
      "Cross Val mean: 0.5245070103567793\n",
      "Cross Val mean: 0.5244265222628831\n",
      "Cross Val mean: 0.5243682314610271\n",
      "Cross Val mean: 0.524320315439416\n",
      "Cross Val mean: 0.5242268728728968\n",
      "Cross Val mean: 0.5240960166768379\n",
      "Cross Val mean: 0.5230489710200643\n",
      "Cross Val mean: 0.5230119940657202\n",
      "Cross Val mean: 0.5229741057135967\n",
      "Cross Val mean: 0.5229336629468813\n",
      "Cross Val mean: 0.5228892483737481\n",
      "Cross Val mean: 0.5228440449055473\n",
      "Cross Val mean: 0.5227959348329302\n",
      "Cross Val mean: 0.5227474443831832\n",
      "Cross Val mean: 0.5226981695722561\n"
     ]
    },
    {
     "data": {
      "text/plain": [
       "0.5245662333416552"
      ]
     },
     "execution_count": 217,
     "metadata": {},
     "output_type": "execute_result"
    }
   ],
   "source": [
    "test_scores_en = []\n",
    "for ii in range(7):\n",
    "    for jj in range(9):\n",
    "        en = ElasticNet(alpha = 10**(2-ii), l1_ratio = 0.1*(jj+1))\n",
    "        piplin = Pipeline([('scaler', std_scaler), ('model', en)])\n",
    "        cv_score = cross_val_score(piplin, X_poly, y , cv = 5).mean()\n",
    "        print(f\"Cross Val mean: {cv_score}\")\n",
    "        test_scores_en.append(cv_score)\n",
    "max(test_scores_en)"
   ]
  },
  {
   "cell_type": "markdown",
   "metadata": {},
   "source": [
    "## Lets split this information for men and women"
   ]
  },
  {
   "cell_type": "markdown",
   "metadata": {},
   "source": [
    "### Men data"
   ]
  },
  {
   "cell_type": "code",
   "execution_count": 252,
   "metadata": {},
   "outputs": [],
   "source": [
    "# Reorder columns\n",
    "columns = m_data.columns\n",
    "m_data = m_data[[col for col in columns if col != 'BodyFat'] + ['BodyFat']]\n",
    "columns = m_data.columns\n",
    "\n",
    "m_X = m_data[columns[1:-1]]\n",
    "m_y = m_data[columns[-1]]\n",
    "\n",
    "m_X_train, m_X_test, m_y_train, m_y_test = train_test_split(m_X, m_y, test_size = 0.2, shuffle=True)"
   ]
  },
  {
   "cell_type": "code",
   "execution_count": 253,
   "metadata": {},
   "outputs": [],
   "source": [
    "poly = PolynomialFeatures(degree = 2)\n",
    "m_poly_X = poly.fit_transform(m_X)\n",
    "\n",
    "m_X_poly_train, m_X_poly_test, m_y_train, m_y_test = train_test_split(m_poly_X, m_y, test_size = 0.2, shuffle=True)"
   ]
  },
  {
   "cell_type": "code",
   "execution_count": 261,
   "metadata": {},
   "outputs": [],
   "source": [
    "polynames = poly.get_feature_names_out()"
   ]
  },
  {
   "cell_type": "markdown",
   "metadata": {},
   "source": [
    "#### Linear regression"
   ]
  },
  {
   "cell_type": "code",
   "execution_count": 220,
   "metadata": {},
   "outputs": [
    {
     "name": "stdout",
     "output_type": "stream",
     "text": [
      "Cross Val mean: 0.6072858909882619\n"
     ]
    }
   ],
   "source": [
    "lr = LinearRegression()\n",
    "piplin = Pipeline([('scaler', std_scaler), ('model', lr)])\n",
    "print(f\"Cross Val mean: {cross_val_score(piplin, m_X, m_y , cv = 5).mean()}\")"
   ]
  },
  {
   "cell_type": "code",
   "execution_count": 221,
   "metadata": {},
   "outputs": [
    {
     "name": "stdout",
     "output_type": "stream",
     "text": [
      "Cross Val mean: 0.5567013953936455\n",
      "Cross Val mean: 0.612720900294166\n",
      "Cross Val mean: 0.6095329991971048\n",
      "Cross Val mean: 0.6075443450606295\n",
      "Cross Val mean: 0.6073125456629799\n",
      "Cross Val mean: 0.60728855880417\n",
      "Cross Val mean: 0.6072861578039254\n",
      "Cross Val mean: 0.6072859176723524\n",
      "Cross Val mean: 0.6072858936563404\n",
      "Cross Val mean: 0.6072858912550751\n"
     ]
    }
   ],
   "source": [
    "test_scores_laso = []\n",
    "for ii in range(10):\n",
    "    laso = Lasso(alpha = 10**(- ii))\n",
    "    piplin = Pipeline([('scaler', std_scaler), ('model', laso)])\n",
    "    print(f\"Cross Val mean: {cross_val_score(piplin, m_X, m_y , cv = 5).mean()}\")"
   ]
  },
  {
   "cell_type": "code",
   "execution_count": 222,
   "metadata": {},
   "outputs": [
    {
     "name": "stdout",
     "output_type": "stream",
     "text": [
      "Cross Val mean: -0.057920511013468824\n",
      "Cross Val mean: 0.024880698444444425\n",
      "Cross Val mean: 0.3047018243455969\n",
      "Cross Val mean: 0.5319422514883527\n",
      "Cross Val mean: 0.6011282341330213\n",
      "Cross Val mean: 0.6088827018023966\n",
      "Cross Val mean: 0.6075114613357918\n",
      "Cross Val mean: 0.6073092221961378\n",
      "Cross Val mean: 0.6072882319861297\n",
      "Cross Val mean: 0.6072861251669565\n"
     ]
    }
   ],
   "source": [
    "for ii in range(10):\n",
    "    rdg = Ridge(alpha = 10**(5 - ii))\n",
    "    piplin = Pipeline([('scaler', std_scaler), ('model', rdg)])\n",
    "    print(f\"Cross Val mean: {cross_val_score(piplin, m_X, m_y , cv = 5).mean()}\")"
   ]
  },
  {
   "cell_type": "code",
   "execution_count": 223,
   "metadata": {},
   "outputs": [
    {
     "name": "stdout",
     "output_type": "stream",
     "text": [
      "Cross Val mean : -0.06903278612289983\n",
      "Cross Val mean : -0.06903278612289983\n",
      "Cross Val mean : -0.06903278612289983\n",
      "Cross Val mean : -0.06903278612289983\n",
      "Cross Val mean : -0.06903278612289983\n",
      "Cross Val mean : -0.06903278612289983\n",
      "Cross Val mean : -0.06903278612289983\n",
      "Cross Val mean : -0.06903278612289983\n",
      "Cross Val mean : -0.06903278612289983\n",
      "Cross Val mean : -0.06903278612289983\n",
      "Cross Val mean : -0.06903278612289983\n",
      "Cross Val mean : -0.06903278612289983\n",
      "Cross Val mean : -0.06903278612289983\n",
      "Cross Val mean : -0.06903278612289983\n",
      "Cross Val mean : -0.06903278612289983\n",
      "Cross Val mean : -0.06903278612289983\n",
      "Cross Val mean : -0.06903278612289983\n",
      "Cross Val mean : -0.06903278612289983\n",
      "Cross Val mean : -0.06903278612289983\n",
      "Cross Val mean : -0.06903278612289983\n",
      "Cross Val mean : -0.06903278612289983\n",
      "Cross Val mean : -0.06903278612289983\n",
      "Cross Val mean : -0.06903278612289983\n",
      "Cross Val mean : -0.06903278612289983\n",
      "Cross Val mean : -0.06903278612289983\n",
      "Cross Val mean : -0.06903278612289983\n",
      "Cross Val mean : -0.06903278612289983\n",
      "Cross Val mean : -0.06903278612289983\n",
      "Cross Val mean : -0.06903278612289983\n",
      "Cross Val mean : -0.06903278612289983\n",
      "Cross Val mean : -0.06903278612289983\n",
      "Cross Val mean : -0.06903278612289983\n",
      "Cross Val mean : -0.06903278612289983\n",
      "Cross Val mean : -0.06903278612289983\n",
      "Cross Val mean : -0.06903278612289983\n",
      "Cross Val mean : -0.06903278612289983\n",
      "Cross Val mean : 0.17275670081884836\n",
      "Cross Val mean : 0.12165824067652024\n",
      "Cross Val mean : 0.06684440834635041\n",
      "Cross Val mean : 0.014050839878338684\n",
      "Cross Val mean : -0.027839401121433304\n",
      "Cross Val mean : -0.05816068490242767\n",
      "Cross Val mean : -0.06903278612289983\n",
      "Cross Val mean : -0.06903278612289983\n",
      "Cross Val mean : -0.06903278612289983\n",
      "Cross Val mean : 0.4896890998159029\n",
      "Cross Val mean : 0.4904625417888552\n",
      "Cross Val mean : 0.4905053032847543\n",
      "Cross Val mean : 0.49186055519551\n",
      "Cross Val mean : 0.4960715765832635\n",
      "Cross Val mean : 0.5024113037828585\n",
      "Cross Val mean : 0.5110791958817708\n",
      "Cross Val mean : 0.5245870223470465\n",
      "Cross Val mean : 0.5463222367103721\n",
      "Cross Val mean : 0.5923018131746349\n",
      "Cross Val mean : 0.5954666872891312\n",
      "Cross Val mean : 0.5986453392025487\n",
      "Cross Val mean : 0.6018712301874812\n",
      "Cross Val mean : 0.6051063738472926\n",
      "Cross Val mean : 0.6083378066339161\n",
      "Cross Val mean : 0.6119773842907557\n",
      "Cross Val mean : 0.6136366579653763\n",
      "Cross Val mean : 0.6133211295115671\n",
      "Cross Val mean : 0.6094001516282161\n",
      "Cross Val mean : 0.6093987973138444\n",
      "Cross Val mean : 0.6093749117707217\n",
      "Cross Val mean : 0.6094317612379747\n",
      "Cross Val mean : 0.6094847719956858\n",
      "Cross Val mean : 0.6095183652604375\n",
      "Cross Val mean : 0.6095429556729703\n",
      "Cross Val mean : 0.6095620730249574\n",
      "Cross Val mean : 0.6095669855920931\n",
      "Cross Val mean : 0.6076812568428085\n",
      "Cross Val mean : 0.6076692105046558\n",
      "Cross Val mean : 0.6076572727989529\n",
      "Cross Val mean : 0.6076431179456091\n",
      "Cross Val mean : 0.6076245535522615\n",
      "Cross Val mean : 0.607609125881498\n",
      "Cross Val mean : 0.6075938637176684\n",
      "Cross Val mean : 0.6075770214885431\n",
      "Cross Val mean : 0.607561181484043\n",
      "Cross Val mean : 0.6073284304286621\n",
      "Cross Val mean : 0.6073266790463904\n",
      "Cross Val mean : 0.6073249238962738\n",
      "Cross Val mean : 0.6073231665607601\n",
      "Cross Val mean : 0.6073214056136995\n",
      "Cross Val mean : 0.6073196371964527\n",
      "Cross Val mean : 0.607317868837098\n",
      "Cross Val mean : 0.6073160996512424\n",
      "Cross Val mean : 0.6073143231483827\n"
     ]
    },
    {
     "data": {
      "text/plain": [
       "0.6136366579653763"
      ]
     },
     "execution_count": 223,
     "metadata": {},
     "output_type": "execute_result"
    }
   ],
   "source": [
    "elastic_net_means = []\n",
    "for ii in range(10):\n",
    "    for jj in range(9):\n",
    "        en = ElasticNet(alpha = 10**(5-ii), l1_ratio = 0.1*(jj+1))\n",
    "        piplin = Pipeline([('scaler', std_scaler), ('model', en)])\n",
    "        cv_score = cross_val_score(piplin, m_X, m_y , cv = 5).mean()\n",
    "        print(f\"Cross Val mean : {cv_score}\")\n",
    "        elastic_net_means.append(cv_score)\n",
    "max(elastic_net_means)"
   ]
  },
  {
   "cell_type": "markdown",
   "metadata": {},
   "source": [
    "#### Polynomial"
   ]
  },
  {
   "cell_type": "code",
   "execution_count": 224,
   "metadata": {},
   "outputs": [
    {
     "name": "stdout",
     "output_type": "stream",
     "text": [
      "Cross Val mean: -4.079768143050949\n"
     ]
    }
   ],
   "source": [
    "lr = LinearRegression()\n",
    "piplin = Pipeline([('scaler', std_scaler), ('model', lr)])\n",
    "print(f\"Cross Val mean: {cross_val_score(piplin, m_poly_X, m_y , cv = 5).mean()}\")"
   ]
  },
  {
   "cell_type": "code",
   "execution_count": 225,
   "metadata": {},
   "outputs": [
    {
     "name": "stdout",
     "output_type": "stream",
     "text": [
      "Cross Val mean: 0.5588894276335493\n",
      "Cross Val mean: 0.6143670688693614\n",
      "Cross Val mean: 0.6099215192692282\n",
      "Cross Val mean: 0.5967862994972684\n",
      "Cross Val mean: 0.5888313909303239\n",
      "Cross Val mean: 0.588062875058091\n",
      "Cross Val mean: 0.5879845103487593\n",
      "Cross Val mean: 0.5879766680578415\n",
      "Cross Val mean: 0.5879758842218049\n",
      "Cross Val mean: 0.5879758058448331\n"
     ]
    }
   ],
   "source": [
    "test_scores_laso = []\n",
    "for ii in range(10):\n",
    "    laso = Lasso(alpha = 10**(- ii))\n",
    "    piplin = Pipeline([('scaler', std_scaler), ('model', laso)])\n",
    "    print(f\"Cross Val mean: {cross_val_score(piplin, m_poly_X, m_y , cv = 5).mean()}\")"
   ]
  },
  {
   "cell_type": "code",
   "execution_count": 254,
   "metadata": {},
   "outputs": [],
   "source": [
    "std_scaler.fit(m_X_poly_train)\n",
    "m_X_poly_train_sc = std_scaler.transform(m_X_poly_train)\n",
    "m_X_poly_test_sc = std_scaler.transform(m_X_poly_test)"
   ]
  },
  {
   "cell_type": "code",
   "execution_count": 341,
   "metadata": {},
   "outputs": [
    {
     "name": "stdout",
     "output_type": "stream",
     "text": [
      "Top 5 most repeated strings:\n",
      "Abdomen: 100 occurrences\n",
      "Forearm Wrist: 75 occurrences\n",
      "Chest: 72 occurrences\n",
      "Age Neck: 69 occurrences\n",
      "Abdomen Hip: 44 occurrences\n"
     ]
    }
   ],
   "source": [
    "m_features = []\n",
    "for ii in range(100):\n",
    "    poly = PolynomialFeatures(degree = 2)\n",
    "    m_poly_X = poly.fit_transform(m_X)\n",
    "\n",
    "    m_X_poly_train, m_X_poly_test, m_y_train, m_y_test = train_test_split(m_poly_X, m_y, test_size = 0.2, shuffle=True)\n",
    "\n",
    "    laso = Lasso(alpha = 0.1)\n",
    "    laso.fit(m_X_poly_train, m_y_train)\n",
    "    sorted(np.abs(laso.coef_))[-5:-1]\n",
    "\n",
    "    arr = np.abs(laso.coef_)\n",
    "    # Get indices of top 5 maximum values\n",
    "    top_indices = np.argpartition(arr, -5)[-5:]\n",
    "\n",
    "    # Sort the top 5 maximum values and their indices\n",
    "    top_values = arr[top_indices]\n",
    "    sorted_indices = top_indices[np.argsort(top_values)]\n",
    "    m_features.append(polynames[top_indices])\n",
    "\n",
    "from collections import Counter\n",
    "\n",
    "arr = m_features\n",
    "\n",
    "# Flatten the array of arrays into a single list of strings\n",
    "flat_arr = [item for sublist in arr for item in sublist]\n",
    "\n",
    "# Count the occurrences of each string\n",
    "counts = Counter(flat_arr)\n",
    "\n",
    "# Get the top 5 most common strings and their counts\n",
    "top_5 = counts.most_common(5)\n",
    "\n",
    "print(\"Top 5 most repeated strings:\")\n",
    "for string, count in top_5:\n",
    "    print(f\"{string}: {count} occurrences\")"
   ]
  },
  {
   "cell_type": "code",
   "execution_count": 326,
   "metadata": {},
   "outputs": [
    {
     "data": {
      "text/plain": [
       "[0.12795904613185,\n",
       " 0.18384355505398964,\n",
       " 0.20689043581533173,\n",
       " 0.2910745469659481]"
      ]
     },
     "execution_count": 326,
     "metadata": {},
     "output_type": "execute_result"
    }
   ],
   "source": [
    "laso = Lasso(alpha = 0.1)\n",
    "laso.fit(m_X_poly_train, m_y_train)\n",
    "sorted(np.abs(laso.coef_))[-5:-1]"
   ]
  },
  {
   "cell_type": "code",
   "execution_count": 327,
   "metadata": {},
   "outputs": [],
   "source": [
    "arr = np.abs(laso.coef_)\n",
    "# Get indices of top 5 maximum values\n",
    "top_indices = np.argpartition(arr, -5)[-5:]\n",
    "\n",
    "# Sort the top 5 maximum values and their indices\n",
    "top_values = arr[top_indices]\n",
    "sorted_indices = top_indices[np.argsort(top_values)]"
   ]
  },
  {
   "cell_type": "code",
   "execution_count": 320,
   "metadata": {},
   "outputs": [
    {
     "data": {
      "text/plain": [
       "array([ 70,  17,  82, 103,   6], dtype=int64)"
      ]
     },
     "execution_count": 320,
     "metadata": {},
     "output_type": "execute_result"
    }
   ],
   "source": [
    "top_indices"
   ]
  },
  {
   "cell_type": "code",
   "execution_count": 328,
   "metadata": {},
   "outputs": [
    {
     "data": {
      "text/plain": [
       "array([-0.12795905,  0.18384356,  0.67193622, -0.29107455, -0.20689044])"
      ]
     },
     "execution_count": 328,
     "metadata": {},
     "output_type": "execute_result"
    }
   ],
   "source": [
    "laso.coef_[top_indices]"
   ]
  },
  {
   "cell_type": "code",
   "execution_count": 329,
   "metadata": {},
   "outputs": [
    {
     "data": {
      "text/plain": [
       "array(['Age Neck', 'Chest', 'Abdomen', 'Forearm Wrist', 'Age Height'],\n",
       "      dtype=object)"
      ]
     },
     "execution_count": 329,
     "metadata": {},
     "output_type": "execute_result"
    }
   ],
   "source": [
    "polynames[top_indices]"
   ]
  },
  {
   "cell_type": "code",
   "execution_count": null,
   "metadata": {},
   "outputs": [],
   "source": [
    "laso = Lasso(alpha = 10**(-1))"
   ]
  },
  {
   "cell_type": "code",
   "execution_count": 226,
   "metadata": {},
   "outputs": [
    {
     "name": "stdout",
     "output_type": "stream",
     "text": [
      "Cross Val mean: 0.015996763806517423\n",
      "Cross Val mean: 0.28846326882349577\n",
      "Cross Val mean: 0.514701406084386\n",
      "Cross Val mean: 0.5946645654635591\n",
      "Cross Val mean: 0.6029910608919348\n",
      "Cross Val mean: 0.6067220928803241\n",
      "Cross Val mean: 0.5911057219571363\n",
      "Cross Val mean: 0.5486599785106405\n",
      "Cross Val mean: 0.4162902985432823\n",
      "Cross Val mean: -0.10777968388857465\n"
     ]
    }
   ],
   "source": [
    "for ii in range(10):\n",
    "    rdg = Ridge(alpha = 10**(5 - ii))\n",
    "    piplin = Pipeline([('scaler', std_scaler), ('model', rdg)])\n",
    "    print(f\"Cross Val mean: {cross_val_score(piplin, m_poly_X, m_y , cv = 5).mean()}\")"
   ]
  },
  {
   "cell_type": "code",
   "execution_count": 227,
   "metadata": {},
   "outputs": [
    {
     "name": "stdout",
     "output_type": "stream",
     "text": [
      "Cross Val mean : -0.06903278612289983\n",
      "Cross Val mean : -0.06903278612289983\n",
      "Cross Val mean : -0.06903278612289983\n",
      "Cross Val mean : -0.06903278612289983\n",
      "Cross Val mean : -0.06903278612289983\n",
      "Cross Val mean : -0.06903278612289983\n",
      "Cross Val mean : -0.06903278612289983\n",
      "Cross Val mean : -0.06903278612289983\n",
      "Cross Val mean : -0.06903278612289983\n",
      "Cross Val mean : -0.06903278612289983\n",
      "Cross Val mean : -0.06903278612289983\n",
      "Cross Val mean : -0.06903278612289983\n",
      "Cross Val mean : -0.06903278612289983\n",
      "Cross Val mean : -0.06903278612289983\n",
      "Cross Val mean : -0.06903278612289983\n",
      "Cross Val mean : -0.06903278612289983\n",
      "Cross Val mean : -0.06903278612289983\n",
      "Cross Val mean : -0.06903278612289983\n",
      "Cross Val mean : -0.06903278612289983\n",
      "Cross Val mean : -0.06903278612289983\n",
      "Cross Val mean : -0.06903278612289983\n",
      "Cross Val mean : -0.06903278612289983\n",
      "Cross Val mean : -0.06903278612289983\n",
      "Cross Val mean : -0.06903278612289983\n",
      "Cross Val mean : -0.06903278612289983\n",
      "Cross Val mean : -0.06903278612289983\n",
      "Cross Val mean : -0.06903278612289983\n",
      "Cross Val mean : -0.06903278612289983\n",
      "Cross Val mean : -0.06903278612289983\n",
      "Cross Val mean : -0.06903278612289983\n",
      "Cross Val mean : -0.06903278612289983\n",
      "Cross Val mean : -0.06903278612289983\n",
      "Cross Val mean : -0.06903278612289983\n",
      "Cross Val mean : -0.06903278612289983\n",
      "Cross Val mean : -0.06903278612289983\n",
      "Cross Val mean : -0.06903278612289983\n",
      "Cross Val mean : 0.40375430395183837\n",
      "Cross Val mean : 0.335426588268391\n",
      "Cross Val mean : 0.25624394244785675\n",
      "Cross Val mean : 0.16352096360943835\n",
      "Cross Val mean : 0.05451629629891663\n",
      "Cross Val mean : -0.04376041213485719\n",
      "Cross Val mean : -0.06903278612289983\n",
      "Cross Val mean : -0.06903278612289983\n",
      "Cross Val mean : -0.06903278612289983\n",
      "Cross Val mean : 0.5847147840880513\n",
      "Cross Val mean : 0.583855467690835\n",
      "Cross Val mean : 0.580283465038231\n",
      "Cross Val mean : 0.5748846589633713\n",
      "Cross Val mean : 0.567429460217817\n",
      "Cross Val mean : 0.5597372367464639\n",
      "Cross Val mean : 0.5563537258191203\n",
      "Cross Val mean : 0.5540292968953515\n",
      "Cross Val mean : 0.5524146417209959\n",
      "Cross Val mean : 0.6048852659291383\n",
      "Cross Val mean : 0.6061675077595747\n",
      "Cross Val mean : 0.6071056199440549\n",
      "Cross Val mean : 0.6080444646058412\n",
      "Cross Val mean : 0.6084957783291003\n",
      "Cross Val mean : 0.6088997045182547\n",
      "Cross Val mean : 0.6095562356761253\n",
      "Cross Val mean : 0.6104114936579945\n",
      "Cross Val mean : 0.610283062453712\n",
      "Cross Val mean : 0.6055969708059411\n",
      "Cross Val mean : 0.604963339484787\n",
      "Cross Val mean : 0.6044919111205743\n",
      "Cross Val mean : 0.6038726949913071\n",
      "Cross Val mean : 0.6039368035163708\n",
      "Cross Val mean : 0.6043289438732614\n",
      "Cross Val mean : 0.6050411698962577\n",
      "Cross Val mean : 0.6061073984800831\n",
      "Cross Val mean : 0.6076873585502117\n",
      "Cross Val mean : 0.6009298916573024\n",
      "Cross Val mean : 0.6006264551513254\n",
      "Cross Val mean : 0.6003421238853062\n",
      "Cross Val mean : 0.600024633164361\n",
      "Cross Val mean : 0.5996043063336518\n",
      "Cross Val mean : 0.5992051713581021\n",
      "Cross Val mean : 0.5987347945027522\n",
      "Cross Val mean : 0.5981380395133158\n",
      "Cross Val mean : 0.5974886626707998\n",
      "Cross Val mean : 0.5904066858939963\n",
      "Cross Val mean : 0.5902411073553155\n",
      "Cross Val mean : 0.5900733015860575\n",
      "Cross Val mean : 0.5899031328496532\n",
      "Cross Val mean : 0.5897303649595369\n",
      "Cross Val mean : 0.5895550468149098\n",
      "Cross Val mean : 0.5893783967167783\n",
      "Cross Val mean : 0.5891988718248294\n",
      "Cross Val mean : 0.5890166229714533\n"
     ]
    },
    {
     "data": {
      "text/plain": [
       "0.6104114936579945"
      ]
     },
     "execution_count": 227,
     "metadata": {},
     "output_type": "execute_result"
    }
   ],
   "source": [
    "elastic_net_means = []\n",
    "for ii in range(10):\n",
    "    for jj in range(9):\n",
    "        en = ElasticNet(alpha = 10**(5-ii), l1_ratio = 0.1*(jj+1))\n",
    "        piplin = Pipeline([('scaler', std_scaler), ('model', en)])\n",
    "        cv_score = cross_val_score(piplin, m_poly_X, m_y , cv = 5).mean()\n",
    "        print(f\"Cross Val mean : {cv_score}\")\n",
    "        elastic_net_means.append(cv_score)\n",
    "max(elastic_net_means)"
   ]
  },
  {
   "cell_type": "markdown",
   "metadata": {},
   "source": [
    "### Women"
   ]
  },
  {
   "cell_type": "code",
   "execution_count": 228,
   "metadata": {},
   "outputs": [],
   "source": [
    "# Reorder columns\n",
    "columns = f_data.columns\n",
    "f_data = f_data[[col for col in columns if col != 'BodyFat'] + ['BodyFat']]\n",
    "columns = f_data.columns\n",
    "\n",
    "f_X = f_data[columns[1:-1]]\n",
    "f_y = f_data[columns[-1]]"
   ]
  },
  {
   "cell_type": "code",
   "execution_count": 229,
   "metadata": {},
   "outputs": [],
   "source": [
    "poly = PolynomialFeatures(degree = 2)\n",
    "f_poly_X = poly.fit_transform(f_X)"
   ]
  },
  {
   "cell_type": "code",
   "execution_count": 250,
   "metadata": {},
   "outputs": [
    {
     "data": {
      "text/plain": [
       "(178, 105)"
      ]
     },
     "execution_count": 250,
     "metadata": {},
     "output_type": "execute_result"
    }
   ],
   "source": [
    "f_poly_X.shape"
   ]
  },
  {
   "cell_type": "markdown",
   "metadata": {},
   "source": [
    "#### Linear regression"
   ]
  },
  {
   "cell_type": "code",
   "execution_count": 230,
   "metadata": {},
   "outputs": [
    {
     "name": "stdout",
     "output_type": "stream",
     "text": [
      "Cross Val mean: 0.5319657447552265\n"
     ]
    }
   ],
   "source": [
    "lr = LinearRegression()\n",
    "piplin = Pipeline([('scaler', std_scaler), ('model', lr)])\n",
    "print(f\"Cross Val mean: {cross_val_score(piplin, f_X, f_y , cv = 5).mean()}\")"
   ]
  },
  {
   "cell_type": "code",
   "execution_count": 231,
   "metadata": {},
   "outputs": [
    {
     "name": "stdout",
     "output_type": "stream",
     "text": [
      "Cross Val mean: 0.48778482972013587\n",
      "Cross Val mean: 0.5477620207047864\n",
      "Cross Val mean: 0.535650387748142\n",
      "Cross Val mean: 0.532422662737029\n",
      "Cross Val mean: 0.5320124031416799\n",
      "Cross Val mean: 0.5319704090898042\n",
      "Cross Val mean: 0.531966212265898\n",
      "Cross Val mean: 0.5319657916323072\n",
      "Cross Val mean: 0.5319657494591155\n",
      "Cross Val mean: 0.5319657452209879\n"
     ]
    }
   ],
   "source": [
    "test_scores_laso = []\n",
    "for ii in range(10):\n",
    "    laso = Lasso(alpha = 10**(- ii))\n",
    "    piplin = Pipeline([('scaler', std_scaler), ('model', laso)])\n",
    "    print(f\"Cross Val mean: {cross_val_score(piplin, f_X, f_y , cv = 5).mean()}\")"
   ]
  },
  {
   "cell_type": "code",
   "execution_count": 232,
   "metadata": {},
   "outputs": [
    {
     "name": "stdout",
     "output_type": "stream",
     "text": [
      "Cross Val mean: 0.33571984267470034\n",
      "Cross Val mean: 0.5213713564435313\n",
      "Cross Val mean: 0.5532537947342475\n",
      "Cross Val mean: 0.5360388690706824\n",
      "Cross Val mean: 0.5324123371802951\n",
      "Cross Val mean: 0.5320108451010299\n",
      "Cross Val mean: 0.5319702592568153\n",
      "Cross Val mean: 0.5319661962501124\n",
      "Cross Val mean: 0.5319657899051624\n",
      "Cross Val mean: 0.5319657492702248\n"
     ]
    }
   ],
   "source": [
    "test_scores_laso = []\n",
    "for ii in range(10):\n",
    "    rdg = Ridge(alpha = 10**(3- ii))\n",
    "    piplin = Pipeline([('scaler', std_scaler), ('model', rdg)])\n",
    "    print(f\"Cross Val mean: {cross_val_score(piplin, f_X, f_y , cv = 5).mean()}\")"
   ]
  },
  {
   "cell_type": "code",
   "execution_count": 233,
   "metadata": {},
   "outputs": [
    {
     "name": "stdout",
     "output_type": "stream",
     "text": [
      "Cross Val mean : -0.09728916515871133\n",
      "Cross Val mean : -0.09728916515871133\n",
      "Cross Val mean : -0.09728916515871133\n",
      "Cross Val mean : -0.09728916515871133\n",
      "Cross Val mean : -0.09728916515871133\n",
      "Cross Val mean : -0.09728916515871133\n",
      "Cross Val mean : -0.09728916515871133\n",
      "Cross Val mean : -0.09728916515871133\n",
      "Cross Val mean : -0.09728916515871133\n",
      "Cross Val mean : -0.09728916515871133\n",
      "Cross Val mean : -0.09728916515871133\n",
      "Cross Val mean : -0.09728916515871133\n",
      "Cross Val mean : -0.09728916515871133\n",
      "Cross Val mean : -0.09728916515871133\n",
      "Cross Val mean : -0.09728916515871133\n",
      "Cross Val mean : -0.09728916515871133\n",
      "Cross Val mean : -0.09728916515871133\n",
      "Cross Val mean : -0.09728916515871133\n",
      "Cross Val mean : -0.09728916515871133\n",
      "Cross Val mean : -0.09728916515871133\n",
      "Cross Val mean : -0.09728916515871133\n",
      "Cross Val mean : -0.09728916515871133\n",
      "Cross Val mean : -0.09728916515871133\n",
      "Cross Val mean : -0.09728916515871133\n",
      "Cross Val mean : -0.09728916515871133\n",
      "Cross Val mean : -0.09728916515871133\n",
      "Cross Val mean : -0.09728916515871133\n",
      "Cross Val mean : -0.09728916515871133\n",
      "Cross Val mean : -0.09728916515871133\n",
      "Cross Val mean : -0.09728916515871133\n",
      "Cross Val mean : -0.09728916515871133\n",
      "Cross Val mean : -0.09728916515871133\n",
      "Cross Val mean : -0.09728916515871133\n",
      "Cross Val mean : -0.09728916515871133\n",
      "Cross Val mean : -0.09728916515871133\n",
      "Cross Val mean : -0.09728916515871133\n",
      "Cross Val mean : 0.21308169024600207\n",
      "Cross Val mean : 0.11910621028441686\n",
      "Cross Val mean : 0.007854878136516174\n",
      "Cross Val mean : -0.08652564709976725\n",
      "Cross Val mean : -0.09728916515871133\n",
      "Cross Val mean : -0.09728916515871133\n",
      "Cross Val mean : -0.09728916515871133\n",
      "Cross Val mean : -0.09728916515871133\n",
      "Cross Val mean : -0.09728916515871133\n",
      "Cross Val mean : 0.5046748788678465\n",
      "Cross Val mean : 0.504223386111484\n",
      "Cross Val mean : 0.5024532615440612\n",
      "Cross Val mean : 0.49945399083117675\n",
      "Cross Val mean : 0.4979506676632095\n",
      "Cross Val mean : 0.4952819103126601\n",
      "Cross Val mean : 0.4935367228143597\n",
      "Cross Val mean : 0.4928563305673001\n",
      "Cross Val mean : 0.49340860099835926\n",
      "Cross Val mean : 0.5560470426400679\n",
      "Cross Val mean : 0.5558663958739556\n",
      "Cross Val mean : 0.5553679478123728\n",
      "Cross Val mean : 0.5549707372419292\n",
      "Cross Val mean : 0.5545939045486044\n",
      "Cross Val mean : 0.5539997925690976\n",
      "Cross Val mean : 0.5531351604847439\n",
      "Cross Val mean : 0.5518579902321218\n",
      "Cross Val mean : 0.5500495310693626\n",
      "Cross Val mean : 0.5372990954870012\n",
      "Cross Val mean : 0.5370735941468643\n",
      "Cross Val mean : 0.5368640473326055\n",
      "Cross Val mean : 0.5366836506733716\n",
      "Cross Val mean : 0.5365547378581876\n",
      "Cross Val mean : 0.5364172063477763\n",
      "Cross Val mean : 0.5362422704109775\n",
      "Cross Val mean : 0.5360595615498108\n",
      "Cross Val mean : 0.5358620107733216\n",
      "Cross Val mean : 0.5325815179456345\n",
      "Cross Val mean : 0.5325652221468402\n",
      "Cross Val mean : 0.5325488202764431\n",
      "Cross Val mean : 0.5325319389637212\n",
      "Cross Val mean : 0.532511796424699\n",
      "Cross Val mean : 0.5324922602625332\n",
      "Cross Val mean : 0.5324727071130125\n",
      "Cross Val mean : 0.5324540956068721\n",
      "Cross Val mean : 0.5324352679625468\n",
      "Cross Val mean : 0.5320281110720112\n",
      "Cross Val mean : 0.5320263719026915\n",
      "Cross Val mean : 0.5320246378984492\n",
      "Cross Val mean : 0.532022892078462\n",
      "Cross Val mean : 0.5320211517871535\n",
      "Cross Val mean : 0.532019401424605\n",
      "Cross Val mean : 0.5320176630372748\n",
      "Cross Val mean : 0.5320159204040398\n",
      "Cross Val mean : 0.5320141672734447\n"
     ]
    },
    {
     "data": {
      "text/plain": [
       "0.5560470426400679"
      ]
     },
     "execution_count": 233,
     "metadata": {},
     "output_type": "execute_result"
    }
   ],
   "source": [
    "elastic_net_means = []\n",
    "for ii in range(10):\n",
    "    for jj in range(9):\n",
    "        en = ElasticNet(alpha = 10**(5-ii), l1_ratio = 0.1*(jj+1))\n",
    "        piplin = Pipeline([('scaler', std_scaler), ('model', en)])\n",
    "        cv_score = cross_val_score(piplin, f_X, f_y , cv = 5).mean()\n",
    "        print(f\"Cross Val mean : {cv_score}\")\n",
    "        elastic_net_means.append(cv_score)\n",
    "max(elastic_net_means)"
   ]
  },
  {
   "cell_type": "markdown",
   "metadata": {},
   "source": [
    "### Polynomial"
   ]
  },
  {
   "cell_type": "code",
   "execution_count": 234,
   "metadata": {},
   "outputs": [
    {
     "name": "stdout",
     "output_type": "stream",
     "text": [
      "Cross Val mean: -1.5023897560432402\n"
     ]
    }
   ],
   "source": [
    "lr = LinearRegression()\n",
    "piplin = Pipeline([('scaler', std_scaler), ('model', lr)])\n",
    "print(f\"Cross Val mean: {cross_val_score(piplin, f_poly_X, f_y , cv = 5).mean()}\")"
   ]
  },
  {
   "cell_type": "code",
   "execution_count": 235,
   "metadata": {},
   "outputs": [
    {
     "name": "stdout",
     "output_type": "stream",
     "text": [
      "Cross Val mean: 0.49256876137899824\n",
      "Cross Val mean: 0.5479197467674961\n",
      "Cross Val mean: 0.529198480079229\n",
      "Cross Val mean: 0.48939549130489113\n",
      "Cross Val mean: 0.4827624480611513\n",
      "Cross Val mean: 0.482102724593829\n",
      "Cross Val mean: 0.48203825046790827\n",
      "Cross Val mean: 0.4820317888901375\n",
      "Cross Val mean: 0.48203114267740527\n",
      "Cross Val mean: 0.4820310780549345\n"
     ]
    }
   ],
   "source": [
    "test_scores_laso = []\n",
    "for ii in range(10):\n",
    "    laso = Lasso(alpha = 10**(- ii))\n",
    "    piplin = Pipeline([('scaler', std_scaler), ('model', laso)])\n",
    "    print(f\"Cross Val mean: {cross_val_score(piplin, f_poly_X, f_y , cv = 5).mean()}\")"
   ]
  },
  {
   "cell_type": "code",
   "execution_count": 342,
   "metadata": {},
   "outputs": [
    {
     "name": "stdout",
     "output_type": "stream",
     "text": [
      "Top 5 most repeated strings:\n",
      "Abdomen: 100 occurrences\n",
      "Chest Hip: 99 occurrences\n",
      "Height Chest: 97 occurrences\n",
      "Abdomen Hip: 96 occurrences\n",
      "Age Knee: 86 occurrences\n"
     ]
    }
   ],
   "source": [
    "f_features = []\n",
    "for ii in range(100):\n",
    "    poly = PolynomialFeatures(degree = 2)\n",
    "    f_poly_X = poly.fit_transform(f_X)\n",
    "\n",
    "    f_X_poly_train, f_X_poly_test, f_y_train, f_y_test = train_test_split(f_poly_X, f_y, test_size = 0.2, shuffle=True)\n",
    "\n",
    "    laso = Lasso(alpha = 0.1)\n",
    "    laso.fit(f_X_poly_train, f_y_train)\n",
    "    sorted(np.abs(laso.coef_))[-5:-1]\n",
    "\n",
    "    arr = np.abs(laso.coef_)\n",
    "    # Get indices of top 5 maximum values\n",
    "    top_indices = np.argpartition(arr, -5)[-5:]\n",
    "\n",
    "    # Sort the top 5 maximum values and their indices\n",
    "    top_values = arr[top_indices]\n",
    "    sorted_indices = top_indices[np.argsort(top_values)]\n",
    "    m_features.append(polynames[top_indices])\n",
    "\n",
    "from collections import Counter\n",
    "\n",
    "arr = m_features\n",
    "\n",
    "# Flatten the array of arrays into a single list of strings\n",
    "flat_arr = [item for sublist in arr for item in sublist]\n",
    "\n",
    "# Count the occurrences of each string\n",
    "counts = Counter(flat_arr)\n",
    "\n",
    "# Get the top 5 most common strings and their counts\n",
    "top_5 = counts.most_common(5)\n",
    "\n",
    "print(\"Top 5 most repeated strings:\")\n",
    "for string, count in top_5:\n",
    "    print(f\"{string}: {count} occurrences\")"
   ]
  },
  {
   "cell_type": "code",
   "execution_count": 311,
   "metadata": {},
   "outputs": [],
   "source": [
    "poly = PolynomialFeatures(degree = 2)\n",
    "f_poly_X = poly.fit_transform(f_X)\n",
    "\n",
    "f_X_poly_train, f_X_poly_test, f_y_train, f_y_test = train_test_split(f_poly_X, f_y, test_size = 0.2, shuffle=True)"
   ]
  },
  {
   "cell_type": "code",
   "execution_count": 312,
   "metadata": {},
   "outputs": [],
   "source": [
    "f_polynames = poly.get_feature_names_out()"
   ]
  },
  {
   "cell_type": "code",
   "execution_count": 313,
   "metadata": {},
   "outputs": [
    {
     "data": {
      "text/plain": [
       "0.6717527208991867"
      ]
     },
     "execution_count": 313,
     "metadata": {},
     "output_type": "execute_result"
    }
   ],
   "source": [
    "laso = Lasso(alpha = 10**(-1))\n",
    "laso.fit(f_X_poly_train, f_y_train)\n",
    "laso.score(f_X_poly_test, f_y_test)"
   ]
  },
  {
   "cell_type": "code",
   "execution_count": 314,
   "metadata": {},
   "outputs": [],
   "source": [
    "arr = np.abs(laso.coef_)\n",
    "# Get indices of top 5 maximum values\n",
    "top_indices = np.argpartition(arr, -5)[-5:]\n",
    "\n",
    "# Sort the top 5 maximum values and their indices\n",
    "top_values = arr[top_indices]\n",
    "sorted_indices = top_indices[np.argsort(top_values)]"
   ]
  },
  {
   "cell_type": "code",
   "execution_count": 315,
   "metadata": {},
   "outputs": [
    {
     "data": {
      "text/plain": [
       "array([0.16746045, 0.19975229, 0.28665478, 0.29457378, 0.36955484])"
      ]
     },
     "execution_count": 315,
     "metadata": {},
     "output_type": "execute_result"
    }
   ],
   "source": [
    "top_values"
   ]
  },
  {
   "cell_type": "code",
   "execution_count": 316,
   "metadata": {},
   "outputs": [
    {
     "data": {
      "text/plain": [
       "array([51, 22, 62, 41, 21], dtype=int64)"
      ]
     },
     "execution_count": 316,
     "metadata": {},
     "output_type": "execute_result"
    }
   ],
   "source": [
    "top_indices"
   ]
  },
  {
   "cell_type": "code",
   "execution_count": null,
   "metadata": {},
   "outputs": [],
   "source": []
  },
  {
   "cell_type": "code",
   "execution_count": 236,
   "metadata": {},
   "outputs": [
    {
     "name": "stdout",
     "output_type": "stream",
     "text": [
      "Cross Val mean: -0.0056841575914003736\n",
      "Cross Val mean: 0.3040136479914195\n",
      "Cross Val mean: 0.49362567513482636\n",
      "Cross Val mean: 0.5554647236061557\n",
      "Cross Val mean: 0.5393601030083787\n",
      "Cross Val mean: 0.5253803289370931\n",
      "Cross Val mean: 0.4870693734906871\n",
      "Cross Val mean: 0.3665654722056873\n",
      "Cross Val mean: 0.013713093840049595\n",
      "Cross Val mean: -0.384160123135638\n"
     ]
    }
   ],
   "source": [
    "for ii in range(10):\n",
    "    rdg = Ridge(alpha = 10**(5- ii))\n",
    "    piplin = Pipeline([('scaler', std_scaler), ('model', rdg)])\n",
    "    print(f\"Cross Val mean: {cross_val_score(piplin, f_poly_X, f_y , cv = 5).mean()}\")"
   ]
  },
  {
   "cell_type": "code",
   "execution_count": 237,
   "metadata": {},
   "outputs": [
    {
     "name": "stdout",
     "output_type": "stream",
     "text": [
      "Cross Val mean : -0.09728916515871133\n",
      "Cross Val mean : -0.09728916515871133\n",
      "Cross Val mean : -0.09728916515871133\n",
      "Cross Val mean : -0.09728916515871133\n",
      "Cross Val mean : -0.09728916515871133\n",
      "Cross Val mean : -0.09728916515871133\n",
      "Cross Val mean : -0.09728916515871133\n",
      "Cross Val mean : -0.09728916515871133\n",
      "Cross Val mean : -0.09728916515871133\n",
      "Cross Val mean : -0.09728916515871133\n",
      "Cross Val mean : -0.09728916515871133\n",
      "Cross Val mean : -0.09728916515871133\n",
      "Cross Val mean : -0.09728916515871133\n",
      "Cross Val mean : -0.09728916515871133\n",
      "Cross Val mean : -0.09728916515871133\n",
      "Cross Val mean : -0.09728916515871133\n",
      "Cross Val mean : -0.09728916515871133\n",
      "Cross Val mean : -0.09728916515871133\n",
      "Cross Val mean : -0.09728916515871133\n",
      "Cross Val mean : -0.09728916515871133\n",
      "Cross Val mean : -0.09728916515871133\n",
      "Cross Val mean : -0.09728916515871133\n",
      "Cross Val mean : -0.09728916515871133\n",
      "Cross Val mean : -0.09728916515871133\n",
      "Cross Val mean : -0.09728916515871133\n",
      "Cross Val mean : -0.09728916515871133\n",
      "Cross Val mean : -0.09728916515871133\n",
      "Cross Val mean : -0.09728916515871133\n",
      "Cross Val mean : -0.09728916515871133\n",
      "Cross Val mean : -0.09728916515871133\n",
      "Cross Val mean : -0.09728916515871133\n",
      "Cross Val mean : -0.09728916515871133\n",
      "Cross Val mean : -0.09728916515871133\n",
      "Cross Val mean : -0.09728916515871133\n",
      "Cross Val mean : -0.09728916515871133\n",
      "Cross Val mean : -0.09728916515871133\n",
      "Cross Val mean : 0.4122998123400641\n",
      "Cross Val mean : 0.2964650660780118\n",
      "Cross Val mean : 0.1305645063390929\n",
      "Cross Val mean : -0.05436610360403373\n",
      "Cross Val mean : -0.09728916515871133\n",
      "Cross Val mean : -0.09728916515871133\n",
      "Cross Val mean : -0.09728916515871133\n",
      "Cross Val mean : -0.09728916515871133\n",
      "Cross Val mean : -0.09728916515871133\n",
      "Cross Val mean : 0.5487233050330987\n",
      "Cross Val mean : 0.5395583840823704\n",
      "Cross Val mean : 0.5304411888403524\n",
      "Cross Val mean : 0.5219989010747078\n",
      "Cross Val mean : 0.5183359695876425\n",
      "Cross Val mean : 0.5137328309338554\n",
      "Cross Val mean : 0.5091550657134009\n",
      "Cross Val mean : 0.5052276631896235\n",
      "Cross Val mean : 0.5016804260871741\n",
      "Cross Val mean : 0.5442575571969253\n",
      "Cross Val mean : 0.5451738225989602\n",
      "Cross Val mean : 0.5465614593559766\n",
      "Cross Val mean : 0.5476439439513785\n",
      "Cross Val mean : 0.5485925073492541\n",
      "Cross Val mean : 0.5492173898419237\n",
      "Cross Val mean : 0.549572399518555\n",
      "Cross Val mean : 0.5497154829601106\n",
      "Cross Val mean : 0.549918406837956\n",
      "Cross Val mean : 0.5282395261965803\n",
      "Cross Val mean : 0.5287696154623875\n",
      "Cross Val mean : 0.5292527874359596\n",
      "Cross Val mean : 0.5300167100694095\n",
      "Cross Val mean : 0.5305614144998918\n",
      "Cross Val mean : 0.5305783653387447\n",
      "Cross Val mean : 0.5303787502461567\n",
      "Cross Val mean : 0.5301025981887122\n",
      "Cross Val mean : 0.5295433030000292\n",
      "Cross Val mean : 0.49943396975312415\n",
      "Cross Val mean : 0.4985188302896539\n",
      "Cross Val mean : 0.49756707777648757\n",
      "Cross Val mean : 0.4965434432401583\n",
      "Cross Val mean : 0.4955325928603139\n",
      "Cross Val mean : 0.4944508824013859\n",
      "Cross Val mean : 0.49323936300260895\n",
      "Cross Val mean : 0.4920510842464932\n",
      "Cross Val mean : 0.49072948874287226\n",
      "Cross Val mean : 0.4842944894280407\n",
      "Cross Val mean : 0.4841327280885929\n",
      "Cross Val mean : 0.48396927386377\n",
      "Cross Val mean : 0.483800337282161\n",
      "Cross Val mean : 0.48362828629561755\n",
      "Cross Val mean : 0.4834572955107922\n",
      "Cross Val mean : 0.48328527085460343\n",
      "Cross Val mean : 0.4831130364385257\n",
      "Cross Val mean : 0.482938567175702\n"
     ]
    },
    {
     "data": {
      "text/plain": [
       "0.549918406837956"
      ]
     },
     "execution_count": 237,
     "metadata": {},
     "output_type": "execute_result"
    }
   ],
   "source": [
    "elastic_net_means = []\n",
    "for ii in range(10):\n",
    "    for jj in range(9):\n",
    "        en = ElasticNet(alpha = 10**(5-ii), l1_ratio = 0.1*(jj+1))\n",
    "        piplin = Pipeline([('scaler', std_scaler), ('model', en)])\n",
    "        cv_score = cross_val_score(piplin, f_poly_X, f_y , cv = 5).mean()\n",
    "        print(f\"Cross Val mean : {cv_score}\")\n",
    "        elastic_net_means.append(cv_score)\n",
    "max(elastic_net_means)"
   ]
  },
  {
   "cell_type": "markdown",
   "metadata": {},
   "source": [
    "# What happens if we don't have access to the density of the person"
   ]
  },
  {
   "cell_type": "code",
   "execution_count": null,
   "metadata": {},
   "outputs": [],
   "source": [
    "X_no_den = data[columns[1:-1]]\n",
    "\n",
    "X_train_no_den, X_test_no_den, y_train_no_den, y_test_no_den = train_test_split(X_no_den, y, test_size = 0.2, random_state = 42, shuffle=True)\n",
    "\n",
    "std_scaler = StandardScaler()\n",
    "\n",
    "std_scaler.fit(X_train_no_den)\n",
    "X_train_sc_no_den = std_scaler.transform(X_train_no_den)\n",
    "X_test_sc_no_den = std_scaler.transform(X_test_no_den)\n",
    "\n",
    "poly_no_den = PolynomialFeatures(degree = 2)\n",
    "poly_no_den.fit(X_train_sc_no_den)\n",
    "X_train_poly_no_den = poly_no_den.transform(X_train_sc_no_den)\n",
    "X_test_poly_no_den = poly_no_den.transform(X_test_sc_no_den)"
   ]
  },
  {
   "cell_type": "markdown",
   "metadata": {},
   "source": [
    "### Linear Regression (plain)"
   ]
  },
  {
   "cell_type": "code",
   "execution_count": null,
   "metadata": {},
   "outputs": [
    {
     "name": "stdout",
     "output_type": "stream",
     "text": [
      "0.6577547474917287\n"
     ]
    },
    {
     "data": {
      "text/plain": [
       "array([ 0.68866183,  1.72645678, -1.35722304, -0.97649962, -0.6154861 ,\n",
       "        8.05759057, -0.76373823,  0.08622278, -0.43484257, -0.36677772,\n",
       "        0.20491539,  0.26557172, -1.33205194])"
      ]
     },
     "execution_count": 55,
     "metadata": {},
     "output_type": "execute_result"
    }
   ],
   "source": [
    "lr_no_den = LinearRegression()\n",
    "lr_no_den_pred = lr_no_den.fit(X_train_sc_no_den, y_train_no_den)\n",
    "print(lr_no_den_pred.score(X_test_sc_no_den, y_test_no_den))\n",
    "lr_no_den_pred.coef_"
   ]
  },
  {
   "cell_type": "markdown",
   "metadata": {},
   "source": [
    "### Lasso regression"
   ]
  },
  {
   "cell_type": "code",
   "execution_count": null,
   "metadata": {},
   "outputs": [
    {
     "data": {
      "text/plain": [
       "[0.6252786948079433,\n",
       " 0.6521808109949999,\n",
       " 0.655454117480631,\n",
       " 0.6575521441653767,\n",
       " 0.6577347595127797,\n",
       " 0.6577527516441564,\n",
       " 0.6577545479452366,\n",
       " 0.6577547275383329,\n",
       " 0.6577547454957948,\n",
       " 0.6577547472921454]"
      ]
     },
     "execution_count": 58,
     "metadata": {},
     "output_type": "execute_result"
    }
   ],
   "source": [
    "test_scores_laso_no_den = []\n",
    "for ii in range(10):\n",
    "    laso_no_den = Lasso(alpha = 10**(-ii), max_iter = 10000)\n",
    "    laso_pred_no_den = laso_no_den.fit(X_train_sc_no_den, y_train_no_den)\n",
    "    test_scores_laso_no_den.append(laso_pred_no_den.score(X_test_sc_no_den, y_test_no_den))\n",
    "test_scores_laso_no_den"
   ]
  },
  {
   "cell_type": "markdown",
   "metadata": {},
   "source": [
    "### Ridge regression"
   ]
  },
  {
   "cell_type": "code",
   "execution_count": null,
   "metadata": {},
   "outputs": [
    {
     "data": {
      "text/plain": [
       "[0.36885397874882586,\n",
       " 0.599411577863247,\n",
       " 0.647191060739101,\n",
       " 0.6568414895670409,\n",
       " 0.6576733287441654,\n",
       " 0.6577467302112431,\n",
       " 0.6577539470407319]"
      ]
     },
     "execution_count": 40,
     "metadata": {},
     "output_type": "execute_result"
    }
   ],
   "source": [
    "test_scores_rdg_no_den = []\n",
    "for ii in range(7):\n",
    "    rdg_no_den = Ridge(alpha = 10**(3 - ii))\n",
    "    rdg_pred_no_den = rdg_no_den.fit(X_train_sc_no_den, y_train_no_den)\n",
    "    test_scores_rdg_no_den.append(rdg_pred_no_den.score(X_test_sc_no_den, y_test_no_den))\n",
    "test_scores_rdg_no_den"
   ]
  },
  {
   "cell_type": "markdown",
   "metadata": {},
   "source": [
    "## Polynomial regression"
   ]
  },
  {
   "cell_type": "code",
   "execution_count": null,
   "metadata": {},
   "outputs": [
    {
     "name": "stdout",
     "output_type": "stream",
     "text": [
      "0.2528787856940803\n"
     ]
    }
   ],
   "source": [
    "lr_no_den = LinearRegression()\n",
    "lr_no_den_pred = lr_no_den.fit(X_train_poly_no_den, y_train_no_den)\n",
    "print(lr_no_den_pred.score(X_test_poly_no_den, y_test_no_den))"
   ]
  },
  {
   "cell_type": "code",
   "execution_count": null,
   "metadata": {},
   "outputs": [
    {
     "name": "stderr",
     "output_type": "stream",
     "text": [
      "c:\\Users\\gilbe\\AppData\\Local\\Programs\\Python\\Python311\\Lib\\site-packages\\sklearn\\linear_model\\_coordinate_descent.py:628: ConvergenceWarning: Objective did not converge. You might want to increase the number of iterations, check the scale of the features or consider increasing regularisation. Duality gap: 4.909e+01, tolerance: 1.254e+00\n",
      "  model = cd_fast.enet_coordinate_descent(\n",
      "c:\\Users\\gilbe\\AppData\\Local\\Programs\\Python\\Python311\\Lib\\site-packages\\sklearn\\linear_model\\_coordinate_descent.py:628: ConvergenceWarning: Objective did not converge. You might want to increase the number of iterations, check the scale of the features or consider increasing regularisation. Duality gap: 2.520e+02, tolerance: 1.254e+00\n",
      "  model = cd_fast.enet_coordinate_descent(\n",
      "c:\\Users\\gilbe\\AppData\\Local\\Programs\\Python\\Python311\\Lib\\site-packages\\sklearn\\linear_model\\_coordinate_descent.py:628: ConvergenceWarning: Objective did not converge. You might want to increase the number of iterations, check the scale of the features or consider increasing regularisation. Duality gap: 5.006e+02, tolerance: 1.254e+00\n",
      "  model = cd_fast.enet_coordinate_descent(\n",
      "c:\\Users\\gilbe\\AppData\\Local\\Programs\\Python\\Python311\\Lib\\site-packages\\sklearn\\linear_model\\_coordinate_descent.py:628: ConvergenceWarning: Objective did not converge. You might want to increase the number of iterations, check the scale of the features or consider increasing regularisation. Duality gap: 5.969e+02, tolerance: 1.254e+00\n",
      "  model = cd_fast.enet_coordinate_descent(\n",
      "c:\\Users\\gilbe\\AppData\\Local\\Programs\\Python\\Python311\\Lib\\site-packages\\sklearn\\linear_model\\_coordinate_descent.py:628: ConvergenceWarning: Objective did not converge. You might want to increase the number of iterations, check the scale of the features or consider increasing regularisation. Duality gap: 6.198e+02, tolerance: 1.254e+00\n",
      "  model = cd_fast.enet_coordinate_descent(\n",
      "c:\\Users\\gilbe\\AppData\\Local\\Programs\\Python\\Python311\\Lib\\site-packages\\sklearn\\linear_model\\_coordinate_descent.py:628: ConvergenceWarning: Objective did not converge. You might want to increase the number of iterations, check the scale of the features or consider increasing regularisation. Duality gap: 6.246e+02, tolerance: 1.254e+00\n",
      "  model = cd_fast.enet_coordinate_descent(\n"
     ]
    },
    {
     "data": {
      "text/plain": [
       "[0.6262071349289711,\n",
       " 0.6572138387956273,\n",
       " 0.6183781994713737,\n",
       " 0.5440905733725492,\n",
       " 0.3598331704764449,\n",
       " 0.2757246918770434,\n",
       " 0.25584881348376254,\n",
       " 0.25173502858031904,\n",
       " 0.25090669493603446,\n",
       " 0.25074080563382295]"
      ]
     },
     "execution_count": 45,
     "metadata": {},
     "output_type": "execute_result"
    }
   ],
   "source": [
    "test_scores_laso_no_den = []\n",
    "for ii in range(10):\n",
    "    laso_no_den = Lasso(alpha = 0.2**ii, max_iter = 10000)\n",
    "    laso_pred_no_den = laso_no_den.fit(X_train_poly_no_den, y_train_no_den)\n",
    "    test_scores_laso_no_den.append(laso_pred_no_den.score(X_test_poly_no_den, y_test_no_den))\n",
    "test_scores_laso_no_den"
   ]
  },
  {
   "cell_type": "code",
   "execution_count": null,
   "metadata": {},
   "outputs": [
    {
     "data": {
      "text/plain": [
       "[0.36798112930661286,\n",
       " 0.574582908564004,\n",
       " 0.6093261952786617,\n",
       " 0.5558265921898848,\n",
       " 0.38622028474008463,\n",
       " 0.27439714875007915,\n",
       " 0.2551887994696018]"
      ]
     },
     "execution_count": 46,
     "metadata": {},
     "output_type": "execute_result"
    }
   ],
   "source": [
    "test_scores_rdg_no_den = []\n",
    "for ii in range(7):\n",
    "    rdg_no_den = Ridge(alpha = 10**(3 - ii))\n",
    "    rdg_pred_no_den = rdg_no_den.fit(X_train_poly_no_den, y_train_no_den)\n",
    "    test_scores_rdg_no_den.append(rdg_pred_no_den.score(X_test_poly_no_den, y_test_no_den))\n",
    "test_scores_rdg_no_den"
   ]
  }
 ],
 "metadata": {
  "kernelspec": {
   "display_name": "Python 3",
   "language": "python",
   "name": "python3"
  },
  "language_info": {
   "codemirror_mode": {
    "name": "ipython",
    "version": 3
   },
   "file_extension": ".py",
   "mimetype": "text/x-python",
   "name": "python",
   "nbconvert_exporter": "python",
   "pygments_lexer": "ipython3",
   "version": "undefined.undefined.undefined"
  }
 },
 "nbformat": 4,
 "nbformat_minor": 2
}
