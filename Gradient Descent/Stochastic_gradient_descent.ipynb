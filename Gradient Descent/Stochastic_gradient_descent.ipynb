{
 "cells": [
  {
   "cell_type": "markdown",
   "metadata": {},
   "source": [
    "# Stochastic Gradient Descent (SGD)\n",
    "\n",
    "Stochastic Gradient Descent (SGD) is a variation of the Gradient Descent algorithm, widely used for optimizing machine learning models. While traditional Gradient Descent calculates the gradient of the loss function using the entire training dataset, SGD updates the model parameters iteratively by computing the gradient using only a single data point. This approach introduces randomness into the optimization process, which has several practical implications and benefits.\n",
    "\n",
    "## How Stochastic Gradient Descent Works\n",
    "\n",
    "1. **Initialization**: \n",
    "   - Start with an initial guess for the model parameters.\n",
    "\n",
    "2. **Iterative Updates**:\n",
    "   - For each iteration, randomly select a single training example.\n",
    "   - Compute the gradient of the loss function with respect to the model parameters using this single data point (or mini-batch).\n",
    "   - Update the model parameters by moving in the opposite direction of the gradient.\n",
    "\n",
    "3. **Repeat**:\n",
    "   - Repeat the iterative updates until the algorithm converges or for a predetermined number of iterations.\n",
    "\n",
    "The update rule for a single training example can be written as:\n",
    "$$ \\theta := \\theta - \\eta \\nabla_\\theta L(\\theta; x_i, y_i) $$\n",
    "\n",
    "Where:\n",
    "- $ \\theta $ are the model parameters.\n",
    "- $ \\eta $ is the learning rate.\n",
    "- $ L(\\theta; x_i, y_i) $ is the loss function for the training example $ (x_i, y_i) $.\n",
    "\n",
    "#### Key Characteristics of SGD\n",
    "\n",
    "- **Randomness**: By using a single randomly chosen data point, SGD introduces stochasticity into the optimization process, which can help in escaping local minima.\n",
    "- **Faster Updates**: Each update is performed much faster than in batch gradient descent since it only requires computing the gradient for one data point.\n",
    "- **Frequent Updates**: Parameters are updated more frequently, which can lead to faster convergence, especially in large datasets.\n",
    "\n",
    "#### Advantages of SGD\n",
    "\n",
    "- **Efficiency**: Computationally cheaper per iteration compared to batch gradient descent, making it suitable for large datasets.\n",
    "- **Online Learning**: Can be used for online learning where the model can be updated continuously as new data arrives.\n",
    "- **Good for Large Datasets**: More practical for very large datasets where computing the full gradient is infeasible.\n",
    "\n",
    "#### Applications\n",
    "\n",
    "- **Training Neural Networks**: SGD and its variants are the backbone of training deep neural networks.\n",
    "- **Large-Scale Machine Learning**: Ideal for large-scale machine learning problems where dataset size makes batch gradient descent impractical.\n",
    "\n",
    "### Conclusion\n",
    "\n",
    "Stochastic Gradient Descent is a powerful and efficient optimization algorithm, particularly suited for large-scale machine learning problems. Its ability to provide faster updates and handle massive datasets makes it a preferred choice in many practical applications. While it comes with challenges like high variance and sensitivity to hyperparameters, various strategies and enhancements have been developed to mitigate these issues, ensuring robust performance in diverse scenarios.\n"
   ]
  },
  {
   "cell_type": "code",
   "execution_count": null,
   "metadata": {},
   "outputs": [],
   "source": []
  }
 ],
 "metadata": {
  "language_info": {
   "name": "python"
  }
 },
 "nbformat": 4,
 "nbformat_minor": 2
}
